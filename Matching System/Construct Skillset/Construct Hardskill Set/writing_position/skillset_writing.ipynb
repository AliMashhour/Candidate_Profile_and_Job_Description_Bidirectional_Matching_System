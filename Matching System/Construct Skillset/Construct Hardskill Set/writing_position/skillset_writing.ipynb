{
 "cells": [
  {
   "cell_type": "code",
   "execution_count": 1,
   "metadata": {},
   "outputs": [],
   "source": [
    "import pandas as pd\n",
    "from lxml import etree\n",
    "from selenium import webdriver\n",
    "\n",
    "import time"
   ]
  },
  {
   "cell_type": "code",
   "execution_count": 2,
   "metadata": {},
   "outputs": [
    {
     "name": "stderr",
     "output_type": "stream",
     "text": [
      "/var/folders/35/qlk674y12zz_m3zs5h1ht6_c0000gn/T/ipykernel_4826/2698783845.py:8: DeprecationWarning: use options instead of chrome_options\n",
      "  web = webdriver.Chrome(chrome_options=options)\n"
     ]
    }
   ],
   "source": [
    "# escape the detection of chrome and set headless chrome\n",
    "options = webdriver.ChromeOptions()\n",
    "options.add_experimental_option(\"useAutomationExtension\", False)\n",
    "options.add_experimental_option(\"excludeSwitches\",[\"enable-automation\"])\n",
    "options.add_argument(\"--headless\")\n",
    "options.add_argument(\"--disable-gpu\")\n",
    "\n",
    "web = webdriver.Chrome(chrome_options=options)\n"
   ]
  },
  {
   "cell_type": "code",
   "execution_count": 3,
   "metadata": {},
   "outputs": [
    {
     "data": {
      "text/html": [
       "<div>\n",
       "<style scoped>\n",
       "    .dataframe tbody tr th:only-of-type {\n",
       "        vertical-align: middle;\n",
       "    }\n",
       "\n",
       "    .dataframe tbody tr th {\n",
       "        vertical-align: top;\n",
       "    }\n",
       "\n",
       "    .dataframe thead th {\n",
       "        text-align: right;\n",
       "    }\n",
       "</style>\n",
       "<table border=\"1\" class=\"dataframe\">\n",
       "  <thead>\n",
       "    <tr style=\"text-align: right;\">\n",
       "      <th></th>\n",
       "      <th>Unnamed: 0</th>\n",
       "      <th>job_name</th>\n",
       "      <th>id</th>\n",
       "      <th>importance</th>\n",
       "      <th>level</th>\n",
       "      <th>job_zone</th>\n",
       "    </tr>\n",
       "  </thead>\n",
       "  <tbody>\n",
       "    <tr>\n",
       "      <th>0</th>\n",
       "      <td>0</td>\n",
       "      <td>Technical Writers</td>\n",
       "      <td>27-3042.00</td>\n",
       "      <td>97</td>\n",
       "      <td>71</td>\n",
       "      <td>4</td>\n",
       "    </tr>\n",
       "    <tr>\n",
       "      <th>1</th>\n",
       "      <td>1</td>\n",
       "      <td>Poets, Lyricists and Creative Writers</td>\n",
       "      <td>27-3043.05</td>\n",
       "      <td>94</td>\n",
       "      <td>82</td>\n",
       "      <td>4</td>\n",
       "    </tr>\n",
       "    <tr>\n",
       "      <th>2</th>\n",
       "      <td>2</td>\n",
       "      <td>Biochemists and Biophysicists</td>\n",
       "      <td>19-1021.00</td>\n",
       "      <td>81</td>\n",
       "      <td>73</td>\n",
       "      <td>5</td>\n",
       "    </tr>\n",
       "    <tr>\n",
       "      <th>3</th>\n",
       "      <td>3</td>\n",
       "      <td>Anthropologists and Archeologists</td>\n",
       "      <td>19-3091.00</td>\n",
       "      <td>81</td>\n",
       "      <td>71</td>\n",
       "      <td>5</td>\n",
       "    </tr>\n",
       "    <tr>\n",
       "      <th>4</th>\n",
       "      <td>4</td>\n",
       "      <td>Editors</td>\n",
       "      <td>27-3041.00</td>\n",
       "      <td>81</td>\n",
       "      <td>71</td>\n",
       "      <td>4</td>\n",
       "    </tr>\n",
       "  </tbody>\n",
       "</table>\n",
       "</div>"
      ],
      "text/plain": [
       "   Unnamed: 0                               job_name          id  importance  \\\n",
       "0           0                      Technical Writers  27-3042.00          97   \n",
       "1           1  Poets, Lyricists and Creative Writers  27-3043.05          94   \n",
       "2           2          Biochemists and Biophysicists  19-1021.00          81   \n",
       "3           3      Anthropologists and Archeologists  19-3091.00          81   \n",
       "4           4                                Editors  27-3041.00          81   \n",
       "\n",
       "   level  job_zone  \n",
       "0     71         4  \n",
       "1     82         4  \n",
       "2     73         5  \n",
       "3     71         5  \n",
       "4     71         4  "
      ]
     },
     "execution_count": 3,
     "metadata": {},
     "output_type": "execute_result"
    }
   ],
   "source": [
    "df = pd.read_excel(\"writing_job_title.xlsx\")\n",
    "df.head()"
   ]
  },
  {
   "cell_type": "code",
   "execution_count": 4,
   "metadata": {},
   "outputs": [],
   "source": [
    "url_base = \"https://www.onetonline.org/link/summary/\""
   ]
  },
  {
   "cell_type": "code",
   "execution_count": 5,
   "metadata": {},
   "outputs": [],
   "source": [
    "each_position_list_skill_name = []\n",
    "each_position_list_skill_set = []\n",
    "each_position_list_id = []\n",
    "for id in df['id']:\n",
    "    url = url_base+id.strip()\n",
    "    web.get(url)\n",
    "    text = web.page_source\n",
    "    tree = etree.HTML(text)\n",
    "    try:\n",
    "        tech_skills = tree.xpath(\"/html/body/div/div[1]/div/div[2]/div[5]/div[2]/div/ul/li\")\n",
    "        skill_set = {}\n",
    "        for each_tech in tech_skills:\n",
    "            skill_name = each_tech.xpath(\"./div/div[1]/b/text()\")[0]\n",
    "            skills = each_tech.xpath(\"./div/div[1]/text()\")\n",
    "            skills_clean = [skill.strip().lstrip(\"— \") for skill in skills]\n",
    "            int_skills_str = \"\".join(skills_clean)\n",
    "            skill_final = int_skills_str.split(\";\")\n",
    "            skill_final = [skill_each.strip() for skill_each in skill_final]\n",
    "            each_position_list_skill_name.append(skill_name)\n",
    "            each_position_list_skill_set.append(skill_final)\n",
    "            each_position_list_id.append(id)\n",
    "    except:\n",
    "        print(id)\n",
    "\n"
   ]
  },
  {
   "cell_type": "code",
   "execution_count": 6,
   "metadata": {},
   "outputs": [
    {
     "data": {
      "text/plain": [
       "'\\n#resp = requests.get(\"https://www.onetonline.org/link/summary/15-2021.00\",headers={\"User-Agent\": \"Mozilla/5.0 (Macintosh; Intel Mac OS X 10_15_7) AppleWebKit/537.36 (KHTML, like Gecko) Chrome/103.0.5060.114 Safari/537.36\"})\\n#text = resp.text\\nweb.get(\"https://www.onetonline.org/link/summary/15-2021.00\")\\ntext = web.page_source\\ntree = etree.HTML(text)\\ntech_skills = tree.xpath(\"/html/body/div/div[1]/div/div[2]/div[5]/div[2]/div/ul/li\")\\nskill_set = {}\\neach_position_list_skill_name = []\\neach_position_list_skill_set = []\\nfor each_tech in tech_skills:\\n    skill_name = each_tech.xpath(\"./div/div[1]/b/text()\")[0]\\n    skills = each_tech.xpath(\"./div/div[1]/text()\")\\n    skills_clean = [skill.strip().lstrip(\"— \") for skill in skills]\\n    int_skills_str = \"\".join(skills_clean)\\n    skill_final = int_skills_str.split(\";\")\\n    skill_final = [skill_each.strip() for skill_each in skill_final]\\n    each_position_list_skill_name.append(skill_name)\\n    each_position_list_skill_set.append(skill_final)\\n\\n    \\nprint(each_position_list_skill_name)\\nprint(each_position_list_skill_set)\\n    #skills = each_tech.xpath(\"./div/div[1]/text()\")\\n    #skill_str = \"\".join(skills)\\n    #skill_set[skill_name] = skill_str\\n# /html/body/div/div[1]/div/div[2]/div[5]/div[2]/div/ul/li[1]/div/div[1]/b\\n\\n# name = each_ele.xpath(\"./div/div[1]/b/text()\")\\n'"
      ]
     },
     "execution_count": 6,
     "metadata": {},
     "output_type": "execute_result"
    }
   ],
   "source": [
    "'''\n",
    "#resp = requests.get(\"https://www.onetonline.org/link/summary/15-2021.00\",headers={\"User-Agent\": \"Mozilla/5.0 (Macintosh; Intel Mac OS X 10_15_7) AppleWebKit/537.36 (KHTML, like Gecko) Chrome/103.0.5060.114 Safari/537.36\"})\n",
    "#text = resp.text\n",
    "web.get(\"https://www.onetonline.org/link/summary/15-2021.00\")\n",
    "text = web.page_source\n",
    "tree = etree.HTML(text)\n",
    "tech_skills = tree.xpath(\"/html/body/div/div[1]/div/div[2]/div[5]/div[2]/div/ul/li\")\n",
    "skill_set = {}\n",
    "each_position_list_skill_name = []\n",
    "each_position_list_skill_set = []\n",
    "for each_tech in tech_skills:\n",
    "    skill_name = each_tech.xpath(\"./div/div[1]/b/text()\")[0]\n",
    "    skills = each_tech.xpath(\"./div/div[1]/text()\")\n",
    "    skills_clean = [skill.strip().lstrip(\"— \") for skill in skills]\n",
    "    int_skills_str = \"\".join(skills_clean)\n",
    "    skill_final = int_skills_str.split(\";\")\n",
    "    skill_final = [skill_each.strip() for skill_each in skill_final]\n",
    "    each_position_list_skill_name.append(skill_name)\n",
    "    each_position_list_skill_set.append(skill_final)\n",
    "\n",
    "    \n",
    "print(each_position_list_skill_name)\n",
    "print(each_position_list_skill_set)\n",
    "    #skills = each_tech.xpath(\"./div/div[1]/text()\")\n",
    "    #skill_str = \"\".join(skills)\n",
    "    #skill_set[skill_name] = skill_str\n",
    "# /html/body/div/div[1]/div/div[2]/div[5]/div[2]/div/ul/li[1]/div/div[1]/b\n",
    "\n",
    "# name = each_ele.xpath(\"./div/div[1]/b/text()\")\n",
    "'''"
   ]
  },
  {
   "cell_type": "code",
   "execution_count": 7,
   "metadata": {},
   "outputs": [],
   "source": [
    "writing_skill = pd.DataFrame({\"id\":each_position_list_id,\"skill_name\":each_position_list_skill_name,\"skill_set\":each_position_list_skill_set})\n",
    "writing_skill.to_excel(\"writing_skillset.xlsx\")"
   ]
  }
 ],
 "metadata": {
  "kernelspec": {
   "display_name": "Python 3.8.12 ('base')",
   "language": "python",
   "name": "python3"
  },
  "language_info": {
   "codemirror_mode": {
    "name": "ipython",
    "version": 3
   },
   "file_extension": ".py",
   "mimetype": "text/x-python",
   "name": "python",
   "nbconvert_exporter": "python",
   "pygments_lexer": "ipython3",
   "version": "3.8.12"
  },
  "orig_nbformat": 4,
  "vscode": {
   "interpreter": {
    "hash": "78db1858765fb968cc8932ecb4c57894369a997ed1306253288725441a1b529a"
   }
  }
 },
 "nbformat": 4,
 "nbformat_minor": 2
}
