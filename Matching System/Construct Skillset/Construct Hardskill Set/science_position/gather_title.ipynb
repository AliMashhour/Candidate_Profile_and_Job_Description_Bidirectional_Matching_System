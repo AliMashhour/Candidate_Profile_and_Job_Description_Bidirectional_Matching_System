{
 "cells": [
  {
   "cell_type": "code",
   "execution_count": 1,
   "metadata": {},
   "outputs": [],
   "source": [
    "from selenium import webdriver\n",
    "from lxml import etree\n",
    "import pandas as pd\n",
    "\n",
    "import time"
   ]
  },
  {
   "cell_type": "code",
   "execution_count": 2,
   "metadata": {},
   "outputs": [
    {
     "name": "stderr",
     "output_type": "stream",
     "text": [
      "/var/folders/35/qlk674y12zz_m3zs5h1ht6_c0000gn/T/ipykernel_3037/1002049254.py:6: DeprecationWarning: use options instead of chrome_options\n",
      "  web = webdriver.Chrome(chrome_options=options)\n"
     ]
    }
   ],
   "source": [
    "# escape the detection of chrome\n",
    "options = webdriver.ChromeOptions()\n",
    "options.add_experimental_option(\"useAutomationExtension\", False)\n",
    "options.add_experimental_option(\"excludeSwitches\",[\"enable-automation\"])\n",
    "\n",
    "web = webdriver.Chrome(chrome_options=options)\n",
    "\n",
    "web.get(\"https://www.onetonline.org\")\n",
    "\n",
    "time.sleep(3)"
   ]
  },
  {
   "cell_type": "code",
   "execution_count": 3,
   "metadata": {},
   "outputs": [],
   "source": [
    "web.find_element_by_xpath(\"/html/body/div/div/div[1]/div[1]/nav/div/ul[1]/li[4]/a\").click()\n",
    "web.find_element_by_xpath(\"/html/body/div/div/div[1]/div[1]/nav/div/ul[1]/li[4]/div/a[4]\").click()\n",
    "\n",
    "time.sleep(3)\n",
    "web.switch_to.window(web.window_handles[-1])"
   ]
  },
  {
   "cell_type": "code",
   "execution_count": 4,
   "metadata": {},
   "outputs": [],
   "source": [
    "web.find_element_by_xpath(\"/html/body/div/div[1]/div/div[2]/div/div[2]/ul/li[1]/a\").click()\n",
    "web.switch_to.window(web.window_handles[-1])\n",
    "# in this part. only gather info of math-related position\n",
    "web.get(\"https://www.onetonline.org/find/descriptor/result/2.A.1.f\")\n",
    "\n",
    "time.sleep(3)\n",
    "web.switch_to.window(web.window_handles[-1])"
   ]
  },
  {
   "cell_type": "code",
   "execution_count": 5,
   "metadata": {},
   "outputs": [],
   "source": [
    "source = web.page_source\n"
   ]
  },
  {
   "cell_type": "code",
   "execution_count": 6,
   "metadata": {},
   "outputs": [],
   "source": [
    "tree = etree.HTML(source)\n",
    "result = tree.xpath(\"/html/body/div/div[1]/div/div[2]/table/tbody/tr\")\n",
    "importance_list = []\n",
    "level_list = []\n",
    "job_zone_list = []\n",
    "code_list = []\n",
    "occupation_list = []\n",
    "for i in result:\n",
    "    importance = i.xpath(\"./td[1]/@data-text\")[0]\n",
    "    level = i.xpath(\"./td[2]/@data-text\")[0]\n",
    "    job_zone = i.xpath(\"./td[3]/@data-text\")[0]\n",
    "    code = i.xpath(\"./td[4]/text()\")[0]\n",
    "    occupation = i.xpath(\"./td[5]/@data-text\")[0]\n",
    "    importance_list.append(importance)\n",
    "    level_list.append(level)\n",
    "    job_zone_list.append(job_zone)\n",
    "    code_list.append(code)\n",
    "    occupation_list.append(occupation)\n",
    "\n",
    "science_job = pd.DataFrame({\"job_name\":occupation_list,\"id\":code_list,\"importance\":importance_list,\"level\":level_list,\"job_zone\":job_zone_list})\n",
    "science_job.to_excel(\"science_job_title.xlsx\")"
   ]
  },
  {
   "cell_type": "code",
   "execution_count": 7,
   "metadata": {},
   "outputs": [],
   "source": [
    "web.close()"
   ]
  }
 ],
 "metadata": {
  "kernelspec": {
   "display_name": "Python 3.8.12 ('base')",
   "language": "python",
   "name": "python3"
  },
  "language_info": {
   "codemirror_mode": {
    "name": "ipython",
    "version": 3
   },
   "file_extension": ".py",
   "mimetype": "text/x-python",
   "name": "python",
   "nbconvert_exporter": "python",
   "pygments_lexer": "ipython3",
   "version": "3.8.12"
  },
  "orig_nbformat": 4,
  "vscode": {
   "interpreter": {
    "hash": "78db1858765fb968cc8932ecb4c57894369a997ed1306253288725441a1b529a"
   }
  }
 },
 "nbformat": 4,
 "nbformat_minor": 2
}
