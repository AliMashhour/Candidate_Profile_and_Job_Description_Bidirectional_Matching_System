{
 "cells": [
  {
   "cell_type": "code",
   "execution_count": 48,
   "metadata": {},
   "outputs": [],
   "source": [
    "import pandas as pd"
   ]
  },
  {
   "cell_type": "code",
   "execution_count": 49,
   "metadata": {},
   "outputs": [],
   "source": [
    "df1 = pd.read_excel(\"active_listening_activity.xlsx\")\n",
    "df2 = pd.read_excel(\"math_activity.xlsx\")\n",
    "df3 = pd.read_excel(\"speaking_activity.xlsx\")\n",
    "df4 = pd.read_excel(\"writing_activity.xlsx\")\n",
    "df5 = pd.read_excel(\"reading_comprehension_activity.xlsx\")\n",
    "df6 = pd.read_excel(\"science_activity.xlsx\")"
   ]
  },
  {
   "cell_type": "code",
   "execution_count": 50,
   "metadata": {},
   "outputs": [
    {
     "data": {
      "text/html": [
       "<div>\n",
       "<style scoped>\n",
       "    .dataframe tbody tr th:only-of-type {\n",
       "        vertical-align: middle;\n",
       "    }\n",
       "\n",
       "    .dataframe tbody tr th {\n",
       "        vertical-align: top;\n",
       "    }\n",
       "\n",
       "    .dataframe thead th {\n",
       "        text-align: right;\n",
       "    }\n",
       "</style>\n",
       "<table border=\"1\" class=\"dataframe\">\n",
       "  <thead>\n",
       "    <tr style=\"text-align: right;\">\n",
       "      <th></th>\n",
       "      <th>Unnamed: 0</th>\n",
       "      <th>content</th>\n",
       "      <th>detail</th>\n",
       "    </tr>\n",
       "  </thead>\n",
       "  <tbody>\n",
       "    <tr>\n",
       "      <th>0</th>\n",
       "      <td>0</td>\n",
       "      <td>making decisions and solving problems</td>\n",
       "      <td>— analyzing information and evaluating results...</td>\n",
       "    </tr>\n",
       "    <tr>\n",
       "      <th>1</th>\n",
       "      <td>1</td>\n",
       "      <td>getting information</td>\n",
       "      <td>— observing, receiving, and otherwise obtainin...</td>\n",
       "    </tr>\n",
       "    <tr>\n",
       "      <th>2</th>\n",
       "      <td>2</td>\n",
       "      <td>performing for or working directly with the pu...</td>\n",
       "      <td>— performing for people or dealing directly wi...</td>\n",
       "    </tr>\n",
       "    <tr>\n",
       "      <th>3</th>\n",
       "      <td>3</td>\n",
       "      <td>evaluating information to determine compliance...</td>\n",
       "      <td>— using relevant information and individual ju...</td>\n",
       "    </tr>\n",
       "    <tr>\n",
       "      <th>4</th>\n",
       "      <td>4</td>\n",
       "      <td>processing information</td>\n",
       "      <td>— compiling, coding, categorizing, calculating...</td>\n",
       "    </tr>\n",
       "  </tbody>\n",
       "</table>\n",
       "</div>"
      ],
      "text/plain": [
       "   Unnamed: 0                                            content  \\\n",
       "0           0              making decisions and solving problems   \n",
       "1           1                                getting information   \n",
       "2           2  performing for or working directly with the pu...   \n",
       "3           3  evaluating information to determine compliance...   \n",
       "4           4                             processing information   \n",
       "\n",
       "                                              detail  \n",
       "0  — analyzing information and evaluating results...  \n",
       "1  — observing, receiving, and otherwise obtainin...  \n",
       "2  — performing for people or dealing directly wi...  \n",
       "3  — using relevant information and individual ju...  \n",
       "4  — compiling, coding, categorizing, calculating...  "
      ]
     },
     "execution_count": 50,
     "metadata": {},
     "output_type": "execute_result"
    }
   ],
   "source": [
    "df1.head()"
   ]
  },
  {
   "cell_type": "code",
   "execution_count": 51,
   "metadata": {},
   "outputs": [
    {
     "data": {
      "text/plain": [
       "['making decisions and solving problems— analyzing information and evaluating results to choose the best solution and solve problems',\n",
       " 'getting information— observing, receiving, and otherwise obtaining information from all relevant sources',\n",
       " 'performing for or working directly with the public— performing for people or dealing directly with the public. this includes serving customers in restaurants and stores, and receiving clients or guests',\n",
       " 'evaluating information to determine compliance with standards— using relevant information and individual judgment to determine whether events or processes comply with laws, regulations, or standards',\n",
       " 'processing information— compiling, coding, categorizing, calculating, tabulating, auditing, or verifying information or data',\n",
       " 'updating and using relevant knowledge— keeping up-to-date technically and applying new knowledge to your job',\n",
       " 'judging the qualities of objects, services, or people— assessing the value, importance, or quality of things or people',\n",
       " 'identifying objects, actions, and events— identifying information by categorizing, estimating, recognizing differences or similarities, and detecting changes in circumstances or events',\n",
       " 'documenting/recording information— entering, transcribing, recording, storing, or maintaining information in written or electronic/magnetic form',\n",
       " 'organizing, planning, and prioritizing work— developing specific goals and plans to prioritize, organize, and accomplish your work']"
      ]
     },
     "execution_count": 51,
     "metadata": {},
     "output_type": "execute_result"
    }
   ],
   "source": [
    "full_list = []\n",
    "for i in [df1,df2,df3,df4,df5,df6]:\n",
    "    for content, detail in zip(i.content,i.detail):\n",
    "        full_list.append(content+detail)\n",
    "full_list[:10]"
   ]
  },
  {
   "cell_type": "code",
   "execution_count": 52,
   "metadata": {},
   "outputs": [
    {
     "data": {
      "text/plain": [
       "41"
      ]
     },
     "execution_count": 52,
     "metadata": {},
     "output_type": "execute_result"
    }
   ],
   "source": [
    "work_content_list_unrep = list(set(full_list))\n",
    "len(work_content_list_unrep)"
   ]
  },
  {
   "cell_type": "code",
   "execution_count": 53,
   "metadata": {},
   "outputs": [],
   "source": [
    "unrep_content_list = []\n",
    "unrep_detail_list = []\n",
    "for i in work_content_list_unrep:\n",
    "    unrep_content_list.append(i.split(\"— \")[0])\n",
    "    unrep_detail_list.append(i.split(\"— \")[1])\n",
    "\n",
    "content_based_df = pd.DataFrame({\"content\":unrep_content_list,\"detail\":unrep_detail_list})\n",
    "content_based_df.to_excel(\"working content.xlsx\")"
   ]
  },
  {
   "cell_type": "code",
   "execution_count": 54,
   "metadata": {},
   "outputs": [],
   "source": [
    "from nltk.corpus import stopwords\n",
    "import re\n",
    "\n",
    "# split the sentences and store in the list (can be used for deducting the classification of words)\n",
    "sentences = unrep_detail_list\n",
    "# store cleaned sentences\n",
    "cleaned_work_exp_0 = []\n",
    "# clean data\n",
    "for i in range(len(sentences)):\n",
    "    review = sentences[i].replace(\"etc.\",\"\").replace(\"e.g.\",\"\").replace(\"i.e.\",\"\")\n",
    "    # only keep letters, + and - in the original passage\n",
    "    review = re.sub('[^a-zA-Z+-]',\" \",review)\n",
    "    review = review.replace(\" one \",\" \").replace(\" two \",\" \").replace(\" three \",\" \").replace(\" four \",\" \").replace(\" five \",\" \").replace(\" six \",\" \").replace(\" seven \",\" \").replace(\" eight \",\" \").replace(\" nine \",\" \").replace(\" ten \",\" \")\n",
    "    review = review.lower()\n",
    "    review = review.split()\n",
    "    # delete stop words and transfer words to unified format\n",
    "    review = [word for word in review if not word in set(stopwords.words(\"english\"))]\n",
    "    review = \" \".join(review)\n",
    "    cleaned_work_exp_0.append(review)\n"
   ]
  },
  {
   "cell_type": "code",
   "execution_count": 65,
   "metadata": {},
   "outputs": [
    {
     "data": {
      "text/plain": [
       "['compile coding categorize calculate tabulate auditing verifying information datum',\n",
       " 'use relevant information individual judgment determine whether event process comply law regulation standard',\n",
       " 'translate explain information mean use',\n",
       " 'run maneuvering navigate driving vehicle mechanized equipment forklift passenger vehicle aircraft watercraft',\n",
       " 'service repair calibrate regulate fine - tuning testing machine device equipment operate primarily basis electrical electronic mechanical principle',\n",
       " 'identify educational need other develop formal educational training program class teach instruct other',\n",
       " 'provide guidance expert advice management group technical systems- process - relate topic',\n",
       " 'provide documentation detailed instruction drawing specification tell other device part equipment structure fabricate construct assemble modify maintain use',\n",
       " 'establish long - range objective specify strategy action achieve',\n",
       " 'use hand arm handle instal positioning move material manipulate thing']"
      ]
     },
     "execution_count": 65,
     "metadata": {},
     "output_type": "execute_result"
    }
   ],
   "source": [
    "import spacy\n",
    "\n",
    "# English pipelines include a rule-based lemmatizer\n",
    "nlp = spacy.load(\"en_core_web_sm\")\n",
    "lemmatizer = nlp.get_pipe(\"lemmatizer\")\n",
    "\n",
    "cleaned_work_exp = []\n",
    "for i in cleaned_work_exp_0:\n",
    "    doc = nlp(i)\n",
    "    cleaned_work_exp.append(\" \".join([token.lemma_ for token in doc]))\n",
    "\n",
    "cleaned_work_exp[:10]"
   ]
  },
  {
   "cell_type": "code",
   "execution_count": 56,
   "metadata": {},
   "outputs": [],
   "source": [
    "signal = {}\n",
    "flag = 0\n",
    "for i in cleaned_work_exp:\n",
    "    signal[i] = flag\n",
    "    flag = flag+1"
   ]
  },
  {
   "cell_type": "code",
   "execution_count": 57,
   "metadata": {},
   "outputs": [],
   "source": [
    "import json\n",
    "with open(\"/Users/zhiyuzhang/Desktop/ocbang/Matching System/O*NET web scraping/preliminary_attempt/clean_data/candidate_profile.json\",\"r\") as f:\n",
    "    data = json.load(f)"
   ]
  },
  {
   "cell_type": "code",
   "execution_count": 58,
   "metadata": {},
   "outputs": [],
   "source": [
    "# just a try\n",
    "try_data = data[\"10000\"][\"working_experiences\"][:15]"
   ]
  },
  {
   "cell_type": "code",
   "execution_count": 59,
   "metadata": {},
   "outputs": [
    {
     "data": {
      "text/plain": [
       "['marketing contractor responsibilitie global adsense - small - medium publisher marketing lead global marketing strategy line adsense business product priority drive acquisition growth',\n",
       " 'act subject matter expert adsense marketing collaborating multiple stakeholder write narrative provide strategic guidance channel owner website blog email social medium youtube seo pay',\n",
       " 'work closely product sale go - to - market team align consult wide commercialisation plan',\n",
       " 'lead research drive content development improve pay organic acquisition campaign',\n",
       " 'increase acquisition conversion - month pay medium beta campaign update creative improving target',\n",
       " 'manage marketing budget - instal process rigor improve roi reporting spend efficiency',\n",
       " 'central approver adsense global marcomms ensure google brand continuity consistency throughout',\n",
       " 'lead think leadership initiative sale stakeholder drive centralised cross - channel approach - focus proactive engage helpful simplified publisher communication include designing website ux overhaul',\n",
       " 'responsibility emea trust privacy - c - level b b marketing thought leadership support emea marketing privacy lead deliver b b trust privacy strategy help grow trust google advertising platform amongst c - level advertiser publisher',\n",
       " 'lead research understand language external ad privacy narrative influence trust emea advertiser google',\n",
       " 'share present insight influence think leadership across multiple stakeholder',\n",
       " 'responsible end - end project management strategic delivery emea marketing privacy moment - series activation think leadership drive trust privacy engagement priority advertiser publisher partner national partnership strategy alignment broad b r strategic goal',\n",
       " 'deliver new partnership proposal streamline simplify partnership process',\n",
       " 'manage xfn relationship pr policy finance legal brand team ensure partnership plan align campaign goal increase awareness amongst key opinion former consumer uk',\n",
       " 'tracking effectiveness annual partnership event make insight - lead recommendation improvement']"
      ]
     },
     "execution_count": 59,
     "metadata": {},
     "output_type": "execute_result"
    }
   ],
   "source": [
    "try_data"
   ]
  },
  {
   "cell_type": "code",
   "execution_count": 60,
   "metadata": {},
   "outputs": [
    {
     "name": "stdout",
     "output_type": "stream",
     "text": [
      "0\n",
      "strategy establish long - range objective specify strategy action achieve\n",
      "product develop designing create new application idea relationship system product include artistic contribution\n",
      "1\n",
      "expert provide guidance expert advice management group technical systems- process - relate topic\n",
      "write use computer computer system include hardware software program write software set function enter data process information\n",
      "write communicate people outside organization represent organization customer public government external source information exchange person write telephone e - mail\n",
      "write provide information supervisor co - worker subordinate telephone write form e - mail person\n",
      "write enter transcribe recording store maintain information write electronic magnetic form\n",
      "provide provide guidance expert advice management group technical systems- process - relate topic\n",
      "provide provide documentation detailed instruction drawing specification tell other device part equipment structure fabricate construct assemble modify maintain use\n",
      "provide provide information supervisor co - worker subordinate telephone write form e - mail person\n",
      "provide provide guidance direction subordinate include set performance standard monitoring performance\n",
      "provide provide personal assistance medical attention emotional support personal care other coworker customer patient\n",
      "guidance provide guidance expert advice management group technical systems- process - relate topic\n",
      "guidance provide guidance direction subordinate include set performance standard monitoring performance\n",
      "2\n",
      "work get member group work together accomplish task\n",
      "work estimate size distance quantity determine time cost resource material need perform work activity\n",
      "work scheduling event program activity well work other\n",
      "work develop specific goal plan prioritize organize accomplish work\n",
      "product develop designing create new application idea relationship system product include artistic contribution\n",
      "to perform day - to - day administrative task maintain information file processing paperwork\n",
      "to keep up - to - date technically apply new knowledge job\n",
      "team encourage build mutual trust respect cooperation among team member\n",
      "plan develop specific goal plan prioritize organize accomplish work\n",
      "3\n",
      "improve identify developmental need other coach mentor otherwise help other improve knowledge skill\n",
      "4\n",
      "5\n",
      "instal use hand arm handle instal positioning move material manipulate thing\n",
      "process use relevant information individual judgment determine whether event process comply law regulation standard\n",
      "process provide guidance expert advice management group technical systems- process - relate topic\n",
      "process use computer computer system include hardware software program write software set function enter data process information\n",
      "process use either control mechanism direct physical activity operate machine process include computer vehicle\n",
      "improve identify developmental need other coach mentor otherwise help other improve knowledge skill\n",
      "6\n",
      "7\n",
      "include use computer computer system include hardware software program write software set function enter data process information\n",
      "include perform people deal directly public include serve customer restaurant store receive client guest\n",
      "include develop designing create new application idea relationship system product include artistic contribution\n",
      "include provide guidance direction subordinate include set performance standard monitoring performance\n",
      "include use either control mechanism direct physical activity operate machine process include computer vehicle\n",
      "designing develop designing create new application idea relationship system product include artistic contribution\n",
      "8\n",
      "trust encourage build mutual trust respect cooperation among team member\n",
      "support provide personal assistance medical attention emotional support personal care other coworker customer patient\n",
      "trust encourage build mutual trust respect cooperation among team member\n",
      "strategy establish long - range objective specify strategy action achieve\n",
      "help identify developmental need other coach mentor otherwise help other improve knowledge skill\n",
      "trust encourage build mutual trust respect cooperation among team member\n",
      "9\n",
      "external communicate people outside organization represent organization customer public government external source information exchange person write telephone e - mail\n",
      "trust encourage build mutual trust respect cooperation among team member\n",
      "10\n",
      "11\n",
      "management provide guidance expert advice management group technical systems- process - relate topic\n",
      "trust encourage build mutual trust respect cooperation among team member\n",
      "strategy establish long - range objective specify strategy action achieve\n",
      "goal develop specific goal plan prioritize organize accomplish work\n",
      "12\n",
      "new develop designing create new application idea relationship system product include artistic contribution\n",
      "new keep up - to - date technically apply new knowledge job\n",
      "process use relevant information individual judgment determine whether event process comply law regulation standard\n",
      "process provide guidance expert advice management group technical systems- process - relate topic\n",
      "process use computer computer system include hardware software program write software set function enter data process information\n",
      "process use either control mechanism direct physical activity operate machine process include computer vehicle\n",
      "13\n",
      "relationship develop constructive cooperative working relationship other maintain time\n",
      "relationship develop designing create new application idea relationship system product include artistic contribution\n",
      "team encourage build mutual trust respect cooperation among team member\n",
      "plan develop specific goal plan prioritize organize accomplish work\n",
      "goal develop specific goal plan prioritize organize accomplish work\n",
      "14\n",
      "event use relevant information individual judgment determine whether event process comply law regulation standard\n",
      "event scheduling event program activity well work other\n",
      "event monitor review information material event environment detect assess problem\n",
      "event identify information categorize estimate recognize difference similarity detect change circumstance event\n"
     ]
    }
   ],
   "source": [
    "flag = 0\n",
    "for i in try_data:\n",
    "    print(flag)\n",
    "    for single_word in i.split():\n",
    "        for n in list(signal.keys()):\n",
    "            for h in n.split():\n",
    "                if single_word == h and single_word != \"-\":\n",
    "                    print(single_word,n)\n",
    "    flag = flag+1\n"
   ]
  },
  {
   "cell_type": "code",
   "execution_count": 69,
   "metadata": {},
   "outputs": [
    {
     "name": "stdout",
     "output_type": "stream",
     "text": [
      "establish-VERB\n",
      "long-ADJ\n",
      "--PUNCT\n",
      "range-NOUN\n",
      "objective-ADJ\n",
      "specify-NOUN\n",
      "strategy-NOUN\n",
      "action-NOUN\n",
      "achieve-VERB\n"
     ]
    }
   ],
   "source": [
    "# recognize useful words in target matrix\n",
    "doc = nlp('establish long - range objective specify strategy action achieve')\n",
    "for token in doc:\n",
    "    print(\"{}-{}\".format(token,token.pos_))\n",
    "\n",
    "# retain NOUN,VERB, (ADJ)-(need?), "
   ]
  },
  {
   "cell_type": "code",
   "execution_count": 73,
   "metadata": {},
   "outputs": [
    {
     "data": {
      "text/plain": [
       "['compile coding categorize calculate tabulate auditing verifying information datum',\n",
       " 'use relevant information individual judgment determine event process comply law regulation standard',\n",
       " 'translate explain information mean use',\n",
       " 'run maneuvering navigate driving vehicle mechanized equipment forklift passenger vehicle aircraft watercraft',\n",
       " 'service repair calibrate regulate tuning testing machine device equipment operate basis electrical electronic mechanical principle',\n",
       " 'identify educational need develop formal educational training program class teach instruct',\n",
       " 'provide guidance expert advice management group technical systems- process relate topic',\n",
       " 'provide documentation instruction drawing specification tell device part equipment structure fabricate construct assemble modify maintain use',\n",
       " 'establish long range objective specify strategy action achieve',\n",
       " 'use hand arm handle instal positioning move material manipulate thing',\n",
       " 'get member group work accomplish task',\n",
       " 'use computer computer system include hardware software program write software set function enter data process information',\n",
       " 'identify underlie principle reason fact information break information datum separate part',\n",
       " 'estimate size distance quantity determine time cost resource material perform work activity',\n",
       " 'monitor oversee spending money',\n",
       " 'encourage build mutual trust respect cooperation team member',\n",
       " 'perform day day administrative task maintain information file processing paperwork',\n",
       " 'scheduling event program activity work',\n",
       " 'recruit interview select hire promote employee organization',\n",
       " 'complaint settle dispute resolve grievance conflict negotiate',\n",
       " 'service repair adjust testing machine device move part equipment operate basis mechanical electronic principle',\n",
       " 'develop constructive cooperative working relationship maintain time',\n",
       " 'identify developmental need coach mentor help improve knowledge skill',\n",
       " 'inspect equipment structure material identify cause error problem defect',\n",
       " 'perform physical activity require considerable use arm leg move whole body climb lifting balance walk stoop handle material',\n",
       " 'review information material event environment detect assess problem',\n",
       " 'develop specific goal plan organize accomplish work',\n",
       " 'communicate people organization represent organization customer public government external source information exchange person write telephone e mail',\n",
       " 'analyze information evaluate result choose good solution solve problem',\n",
       " 'perform people deal public include serve customer restaurant store receive client guest',\n",
       " 'assess value importance quality thing people',\n",
       " 'observe receive obtain information relevant source',\n",
       " 'develop designing create new application idea relationship system product include artistic contribution',\n",
       " 'keep date apply new knowledge job',\n",
       " 'provide information supervisor co - worker subordinate telephone write form e mail person',\n",
       " 'provide guidance direction subordinate include set performance standard monitoring performance',\n",
       " 'convince buy merchandise good change mind action',\n",
       " 'provide personal assistance medical attention emotional support personal care coworker customer patient',\n",
       " 'use control mechanism direct physical activity operate machine process include computer vehicle',\n",
       " 'identify information categorize estimate recognize difference similarity detect change circumstance event',\n",
       " 'enter transcribe recording store maintain information write electronic magnetic form']"
      ]
     },
     "execution_count": 73,
     "metadata": {},
     "output_type": "execute_result"
    }
   ],
   "source": [
    "# actually can be manually identified to increase the accuracy\n",
    "cleaned_model = []\n",
    "for i in cleaned_work_exp:\n",
    "    doc = nlp(i)\n",
    "    temp_list = []\n",
    "    for token in doc:\n",
    "        if token.pos_ in (\"VERB\",\"ADJ\",\"NOUN\") and token.orth_ != \"other\" and token.orth_ !=\"detailed\":\n",
    "            temp_list.append(token.orth_)\n",
    "        else:\n",
    "            continue\n",
    "    cleaned_sentence = \" \".join(temp_list)\n",
    "    cleaned_model.append(cleaned_sentence)\n",
    "\n",
    "cleaned_model"
   ]
  },
  {
   "cell_type": "code",
   "execution_count": 74,
   "metadata": {},
   "outputs": [],
   "source": [
    "final_activity = pd.DataFrame({\"Category\":unrep_content_list,\"KeyWords\":cleaned_model})\n",
    "final_activity.to_excel(\"pre_softskills_matrix.xlsx\")"
   ]
  }
 ],
 "metadata": {
  "kernelspec": {
   "display_name": "Python 3.8.12 ('base')",
   "language": "python",
   "name": "python3"
  },
  "language_info": {
   "codemirror_mode": {
    "name": "ipython",
    "version": 3
   },
   "file_extension": ".py",
   "mimetype": "text/x-python",
   "name": "python",
   "nbconvert_exporter": "python",
   "pygments_lexer": "ipython3",
   "version": "3.8.12"
  },
  "orig_nbformat": 4,
  "vscode": {
   "interpreter": {
    "hash": "78db1858765fb968cc8932ecb4c57894369a997ed1306253288725441a1b529a"
   }
  }
 },
 "nbformat": 4,
 "nbformat_minor": 2
}
