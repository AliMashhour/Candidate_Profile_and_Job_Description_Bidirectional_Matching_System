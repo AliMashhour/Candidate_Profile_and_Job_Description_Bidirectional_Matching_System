{
 "cells": [
  {
   "cell_type": "code",
   "execution_count": 4,
   "metadata": {},
   "outputs": [],
   "source": [
    "import pandas as pd"
   ]
  },
  {
   "cell_type": "code",
   "execution_count": 5,
   "metadata": {},
   "outputs": [],
   "source": [
    "df1 = pd.read_excel(\"active_listening_soft.xlsx\")\n",
    "df2 = pd.read_excel(\"math_soft.xlsx\")\n",
    "df3 = pd.read_excel(\"speaking_soft.xlsx\")\n",
    "df4 = pd.read_excel(\"writing_soft.xlsx\")\n",
    "df5 = pd.read_excel(\"reading_comprehension_soft.xlsx\")\n",
    "df6 = pd.read_excel(\"science_soft.xlsx\")"
   ]
  },
  {
   "cell_type": "code",
   "execution_count": 6,
   "metadata": {},
   "outputs": [
    {
     "data": {
      "text/plain": [
       "['active listening— giving full attention to what other people are saying, taking time to understand the points being made, asking questions as appropriate, and not interrupting at inappropriate times',\n",
       " 'critical thinking— using logic and reasoning to identify the strengths and weaknesses of alternative solutions, conclusions, or approaches to problems',\n",
       " 'judgment and decision making— considering the relative costs and benefits of potential actions to choose the most appropriate one',\n",
       " 'reading comprehension— understanding written sentences and paragraphs in work-related documents',\n",
       " 'complex problem solving— identifying complex problems and reviewing related information to develop and evaluate options and implement solutions',\n",
       " 'speaking— talking to others to convey information effectively',\n",
       " 'writing— communicating effectively in writing as appropriate for the needs of the audience',\n",
       " 'active learning— understanding the implications of new information for both current and future problem-solving and decision-making',\n",
       " \"social perceptiveness— being aware of others' reactions and understanding why they react as they do\",\n",
       " 'monitoring— monitoring/assessing performance of yourself, other individuals, or organizations to make improvements or take corrective action']"
      ]
     },
     "execution_count": 6,
     "metadata": {},
     "output_type": "execute_result"
    }
   ],
   "source": [
    "full_list = []\n",
    "for i in [df1,df2,df3,df4,df5,df6]:\n",
    "    for content, detail in zip(i.content,i.detail):\n",
    "        full_list.append(content+detail)\n",
    "full_list[:10]"
   ]
  },
  {
   "cell_type": "code",
   "execution_count": 7,
   "metadata": {},
   "outputs": [
    {
     "data": {
      "text/plain": [
       "35"
      ]
     },
     "execution_count": 7,
     "metadata": {},
     "output_type": "execute_result"
    }
   ],
   "source": [
    "work_content_list_unrep = list(set(full_list))\n",
    "len(work_content_list_unrep)"
   ]
  }
 ],
 "metadata": {
  "kernelspec": {
   "display_name": "Python 3.8.12 ('base')",
   "language": "python",
   "name": "python3"
  },
  "language_info": {
   "codemirror_mode": {
    "name": "ipython",
    "version": 3
   },
   "file_extension": ".py",
   "mimetype": "text/x-python",
   "name": "python",
   "nbconvert_exporter": "python",
   "pygments_lexer": "ipython3",
   "version": "3.8.12"
  },
  "orig_nbformat": 4,
  "vscode": {
   "interpreter": {
    "hash": "78db1858765fb968cc8932ecb4c57894369a997ed1306253288725441a1b529a"
   }
  }
 },
 "nbformat": 4,
 "nbformat_minor": 2
}
