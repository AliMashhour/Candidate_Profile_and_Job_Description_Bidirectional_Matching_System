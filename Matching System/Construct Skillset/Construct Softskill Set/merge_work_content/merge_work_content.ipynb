{
 "cells": [
  {
   "cell_type": "code",
   "execution_count": 14,
   "metadata": {},
   "outputs": [],
   "source": [
    "import pandas as pd"
   ]
  },
  {
   "cell_type": "code",
   "execution_count": 15,
   "metadata": {},
   "outputs": [],
   "source": [
    "df1 = pd.read_excel(\"active_listening_content.xlsx\")\n",
    "df2 = pd.read_excel(\"math_content.xlsx\")\n",
    "df3 = pd.read_excel(\"speaking_content.xlsx\")\n",
    "df4 = pd.read_excel(\"writing_content.xlsx\")\n",
    "df5 = pd.read_excel(\"reading_comprehension_content.xlsx\")\n",
    "df6 = pd.read_excel(\"science_content.xlsx\")"
   ]
  },
  {
   "cell_type": "code",
   "execution_count": 16,
   "metadata": {},
   "outputs": [
    {
     "name": "stdout",
     "output_type": "stream",
     "text": [
      "['freedom to make decisions', 'indoors, environmentally controlled', 'structured versus unstructured work', 'face-to-face discussions', 'impact of decisions on co-workers or company results', 'electronic mail', 'spend time sitting', 'importance of being exact or accurate', 'work with work group or team', 'time pressure', 'contact with others', 'deal with external customers', 'frequency of conflict situations', 'frequency of decision making', 'coordinate or lead others', 'deal with unpleasant or angry people', 'public speaking', 'telephone', 'letters and memos', 'duration of typical work week', 'consequence of error', 'responsibility for outcomes and results', 'physical proximity', 'deal with physically aggressive people', 'importance of repeating same tasks', 'level of competition', 'face-to-face discussions', 'electronic mail', 'contact with others', 'frequency of decision making']\n"
     ]
    },
    {
     "data": {
      "text/plain": [
       "136782"
      ]
     },
     "execution_count": 16,
     "metadata": {},
     "output_type": "execute_result"
    }
   ],
   "source": [
    "work_content_list = []\n",
    "for i in [df1,df2,df3,df4,df5,df6]:\n",
    "    work_content_list = work_content_list+list(i['content'])\n",
    "print(work_content_list[:30])\n",
    "len(work_content_list)"
   ]
  },
  {
   "cell_type": "code",
   "execution_count": 17,
   "metadata": {},
   "outputs": [
    {
     "data": {
      "text/plain": [
       "57"
      ]
     },
     "execution_count": 17,
     "metadata": {},
     "output_type": "execute_result"
    }
   ],
   "source": [
    "work_content_list_unrep = list(set(work_content_list))\n",
    "len(work_content_list_unrep)"
   ]
  },
  {
   "cell_type": "code",
   "execution_count": 18,
   "metadata": {},
   "outputs": [
    {
     "name": "stdout",
     "output_type": "stream",
     "text": [
      "57\n"
     ]
    },
    {
     "data": {
      "text/plain": [
       "['spend time standing',\n",
       " 'wear specialized protective safety equipment breathing apparatus safety harness full protection suit radiation protection',\n",
       " 'outdoors exposed weather',\n",
       " 'exposed hazardous equipment',\n",
       " 'exposed whole body vibration',\n",
       " 'spend time kneeling crouching stooping crawling',\n",
       " 'open vehicle equipment',\n",
       " 'sound noise level distracting uncomfortable',\n",
       " 'spend time making repetitive motion',\n",
       " 'consequence error']"
      ]
     },
     "execution_count": 18,
     "metadata": {},
     "output_type": "execute_result"
    }
   ],
   "source": [
    "from nltk.stem import WordNetLemmatizer\n",
    "import re\n",
    "from nltk.corpus import stopwords\n",
    "wordnet = WordNetLemmatizer()\n",
    "cleaned_work_content = []\n",
    "for i in work_content_list_unrep:\n",
    "    review = i.replace(\"etc.\",\"\").replace(\"e.g.\",\"\").replace(\"i.e.\",\"\")\n",
    "    # only keep letters, + and - in the original passage\n",
    "    review = re.sub('[^a-zA-Z+-]',\" \",review)\n",
    "    review = review.replace(\" one \",\" \").replace(\" two \",\" \").replace(\" three \",\" \").replace(\" four \",\" \").replace(\" five \",\" \").replace(\" six \",\" \").replace(\" seven \",\" \").replace(\" eight \",\" \").replace(\" nine \",\" \").replace(\" ten \",\" \")\n",
    "    review = review.lower()\n",
    "    review = review.split()\n",
    "    # delete stop words and transfer words to unified format\n",
    "    review = [wordnet.lemmatize(word) for word in review if not word in set(stopwords.words(\"english\"))]\n",
    "    review = \" \".join(review)\n",
    "    cleaned_work_content.append(review)\n",
    "# return a list that contains cleaned sentences\n",
    "print(len(cleaned_work_content))\n",
    "cleaned_work_content[:10]"
   ]
  },
  {
   "cell_type": "code",
   "execution_count": 19,
   "metadata": {},
   "outputs": [],
   "source": [
    "cleaned_content = pd.DataFrame({\"work_content\":cleaned_work_content})\n",
    "cleaned_content.to_excel(\"work_content.xlsx\")"
   ]
  }
 ],
 "metadata": {
  "kernelspec": {
   "display_name": "Python 3.8.12 ('base')",
   "language": "python",
   "name": "python3"
  },
  "language_info": {
   "codemirror_mode": {
    "name": "ipython",
    "version": 3
   },
   "file_extension": ".py",
   "mimetype": "text/x-python",
   "name": "python",
   "nbconvert_exporter": "python",
   "pygments_lexer": "ipython3",
   "version": "3.8.12"
  },
  "orig_nbformat": 4,
  "vscode": {
   "interpreter": {
    "hash": "78db1858765fb968cc8932ecb4c57894369a997ed1306253288725441a1b529a"
   }
  }
 },
 "nbformat": 4,
 "nbformat_minor": 2
}
