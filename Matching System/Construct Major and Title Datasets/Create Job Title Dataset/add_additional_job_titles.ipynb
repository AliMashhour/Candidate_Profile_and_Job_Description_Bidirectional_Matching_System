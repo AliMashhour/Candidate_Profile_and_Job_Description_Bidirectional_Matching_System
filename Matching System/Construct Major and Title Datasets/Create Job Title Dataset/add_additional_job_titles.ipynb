{
 "cells": [
  {
   "cell_type": "code",
   "execution_count": 1,
   "metadata": {},
   "outputs": [],
   "source": [
    "import pandas as pd"
   ]
  },
  {
   "cell_type": "code",
   "execution_count": 2,
   "metadata": {},
   "outputs": [],
   "source": [
    "df1 = pd.read_excel(\"active_listening_job_title.xlsx\")\n",
    "df2 = pd.read_excel(\"math_job_title.xlsx\")\n",
    "df3 = pd.read_excel(\"speaking_job_title.xlsx\")\n",
    "df4 = pd.read_excel(\"writing_job_title.xlsx\")\n",
    "df5 = pd.read_excel(\"reading_comprehension_job_title.xlsx\")\n",
    "df6 = pd.read_excel(\"science_job_title.xlsx\")"
   ]
  },
  {
   "cell_type": "code",
   "execution_count": 3,
   "metadata": {},
   "outputs": [
    {
     "data": {
      "text/html": [
       "<div>\n",
       "<style scoped>\n",
       "    .dataframe tbody tr th:only-of-type {\n",
       "        vertical-align: middle;\n",
       "    }\n",
       "\n",
       "    .dataframe tbody tr th {\n",
       "        vertical-align: top;\n",
       "    }\n",
       "\n",
       "    .dataframe thead th {\n",
       "        text-align: right;\n",
       "    }\n",
       "</style>\n",
       "<table border=\"1\" class=\"dataframe\">\n",
       "  <thead>\n",
       "    <tr style=\"text-align: right;\">\n",
       "      <th></th>\n",
       "      <th>Unnamed: 0</th>\n",
       "      <th>job_name</th>\n",
       "      <th>id</th>\n",
       "      <th>importance</th>\n",
       "      <th>level</th>\n",
       "      <th>job_zone</th>\n",
       "    </tr>\n",
       "  </thead>\n",
       "  <tbody>\n",
       "    <tr>\n",
       "      <th>0</th>\n",
       "      <td>0</td>\n",
       "      <td>Judges, Magistrate Judges, and Magistrates</td>\n",
       "      <td>23-1023.00</td>\n",
       "      <td>100</td>\n",
       "      <td>84</td>\n",
       "      <td>5</td>\n",
       "    </tr>\n",
       "    <tr>\n",
       "      <th>1</th>\n",
       "      <td>1</td>\n",
       "      <td>Marriage and Family Therapists</td>\n",
       "      <td>21-1013.00</td>\n",
       "      <td>97</td>\n",
       "      <td>71</td>\n",
       "      <td>5</td>\n",
       "    </tr>\n",
       "    <tr>\n",
       "      <th>2</th>\n",
       "      <td>2</td>\n",
       "      <td>Child, Family, and School Social Workers</td>\n",
       "      <td>21-1021.00</td>\n",
       "      <td>97</td>\n",
       "      <td>68</td>\n",
       "      <td>4</td>\n",
       "    </tr>\n",
       "    <tr>\n",
       "      <th>3</th>\n",
       "      <td>3</td>\n",
       "      <td>Mental Health Counselors</td>\n",
       "      <td>21-1014.00</td>\n",
       "      <td>94</td>\n",
       "      <td>70</td>\n",
       "      <td>5</td>\n",
       "    </tr>\n",
       "    <tr>\n",
       "      <th>4</th>\n",
       "      <td>4</td>\n",
       "      <td>Psychiatrists</td>\n",
       "      <td>29-1223.00</td>\n",
       "      <td>91</td>\n",
       "      <td>71</td>\n",
       "      <td>5</td>\n",
       "    </tr>\n",
       "  </tbody>\n",
       "</table>\n",
       "</div>"
      ],
      "text/plain": [
       "   Unnamed: 0                                    job_name          id  \\\n",
       "0           0  Judges, Magistrate Judges, and Magistrates  23-1023.00   \n",
       "1           1              Marriage and Family Therapists  21-1013.00   \n",
       "2           2    Child, Family, and School Social Workers  21-1021.00   \n",
       "3           3                    Mental Health Counselors  21-1014.00   \n",
       "4           4                               Psychiatrists  29-1223.00   \n",
       "\n",
       "   importance  level  job_zone  \n",
       "0         100     84         5  \n",
       "1          97     71         5  \n",
       "2          97     68         4  \n",
       "3          94     70         5  \n",
       "4          91     71         5  "
      ]
     },
     "execution_count": 3,
     "metadata": {},
     "output_type": "execute_result"
    }
   ],
   "source": [
    "df1.head()"
   ]
  },
  {
   "cell_type": "code",
   "execution_count": 4,
   "metadata": {},
   "outputs": [
    {
     "data": {
      "text/plain": [
       "['Judges, Magistrate Judges, and Magistrates',\n",
       " 'Marriage and Family Therapists',\n",
       " 'Child, Family, and School Social Workers',\n",
       " 'Mental Health Counselors',\n",
       " 'Psychiatrists',\n",
       " 'Clinical and Counseling Psychologists',\n",
       " 'Lawyers',\n",
       " 'Labor Relations Specialists',\n",
       " 'Farm and Home Management Educators',\n",
       " 'Arbitrators, Mediators, and Conciliators']"
      ]
     },
     "execution_count": 4,
     "metadata": {},
     "output_type": "execute_result"
    }
   ],
   "source": [
    "job_title_list = []\n",
    "for i in [df1,df2,df3,df4,df5,df6]:\n",
    "    job_title_list = job_title_list+list(i['job_name'])\n",
    "job_title_list[:10]"
   ]
  },
  {
   "cell_type": "code",
   "execution_count": 6,
   "metadata": {},
   "outputs": [
    {
     "data": {
      "text/plain": [
       "873"
      ]
     },
     "execution_count": 6,
     "metadata": {},
     "output_type": "execute_result"
    }
   ],
   "source": [
    "job_title_list_new = [i.rstrip(\"s\").lower() for i in job_title_list]\n",
    "job_title_list_new = list(set(job_title_list_new))\n",
    "len(job_title_list_new)"
   ]
  },
  {
   "cell_type": "code",
   "execution_count": 7,
   "metadata": {},
   "outputs": [
    {
     "data": {
      "text/html": [
       "<div>\n",
       "<style scoped>\n",
       "    .dataframe tbody tr th:only-of-type {\n",
       "        vertical-align: middle;\n",
       "    }\n",
       "\n",
       "    .dataframe tbody tr th {\n",
       "        vertical-align: top;\n",
       "    }\n",
       "\n",
       "    .dataframe thead th {\n",
       "        text-align: right;\n",
       "    }\n",
       "</style>\n",
       "<table border=\"1\" class=\"dataframe\">\n",
       "  <thead>\n",
       "    <tr style=\"text-align: right;\">\n",
       "      <th></th>\n",
       "      <th>Unnamed: 0</th>\n",
       "      <th>job_title</th>\n",
       "    </tr>\n",
       "  </thead>\n",
       "  <tbody>\n",
       "    <tr>\n",
       "      <th>0</th>\n",
       "      <td>0</td>\n",
       "      <td>marketing specialist</td>\n",
       "    </tr>\n",
       "    <tr>\n",
       "      <th>1</th>\n",
       "      <td>1</td>\n",
       "      <td>marketing manager</td>\n",
       "    </tr>\n",
       "    <tr>\n",
       "      <th>2</th>\n",
       "      <td>2</td>\n",
       "      <td>marketing director</td>\n",
       "    </tr>\n",
       "    <tr>\n",
       "      <th>3</th>\n",
       "      <td>3</td>\n",
       "      <td>graphic designer</td>\n",
       "    </tr>\n",
       "    <tr>\n",
       "      <th>4</th>\n",
       "      <td>4</td>\n",
       "      <td>marketing research analyst</td>\n",
       "    </tr>\n",
       "  </tbody>\n",
       "</table>\n",
       "</div>"
      ],
      "text/plain": [
       "   Unnamed: 0                   job_title\n",
       "0           0        marketing specialist\n",
       "1           1           marketing manager\n",
       "2           2          marketing director\n",
       "3           3            graphic designer\n",
       "4           4  marketing research analyst"
      ]
     },
     "execution_count": 7,
     "metadata": {},
     "output_type": "execute_result"
    }
   ],
   "source": [
    "df_original = pd.read_excel(\"title_final.xlsx\")\n",
    "df_original.head()"
   ]
  },
  {
   "cell_type": "code",
   "execution_count": 9,
   "metadata": {},
   "outputs": [
    {
     "name": "stdout",
     "output_type": "stream",
     "text": [
      "['line cook', 'funeral home manager', 'electromechanical equipment assembler', 'quality control analyst', 'cutting, punching, and press machine setters, operators, and tenders, metal and plastic', 'railroad conductors and yardmaster', 'adult basic education, adult secondary education, and english as a second language instructor', 'first-line supervisors of helpers, laborers, and material movers, hand', 'training and development specialist', 'telecommunications equipment installers and repairers, except line installer']\n"
     ]
    },
    {
     "data": {
      "text/plain": [
       "1272"
      ]
     },
     "execution_count": 9,
     "metadata": {},
     "output_type": "execute_result"
    }
   ],
   "source": [
    "job_title_list_old = list(df_original['job_title'])\n",
    "job_title_list_final = list(set(job_title_list_new+job_title_list_old))\n",
    "print(job_title_list_final[:10])\n",
    "len(job_title_list_final)"
   ]
  },
  {
   "cell_type": "code",
   "execution_count": 10,
   "metadata": {},
   "outputs": [],
   "source": [
    "df_final = pd.DataFrame({\"job_title\":job_title_list_final})\n",
    "df_final.to_excel(\"title_final.xlsx\")"
   ]
  }
 ],
 "metadata": {
  "kernelspec": {
   "display_name": "Python 3.8.12 ('base')",
   "language": "python",
   "name": "python3"
  },
  "language_info": {
   "codemirror_mode": {
    "name": "ipython",
    "version": 3
   },
   "file_extension": ".py",
   "mimetype": "text/x-python",
   "name": "python",
   "nbconvert_exporter": "python",
   "pygments_lexer": "ipython3",
   "version": "3.8.12"
  },
  "orig_nbformat": 4,
  "vscode": {
   "interpreter": {
    "hash": "78db1858765fb968cc8932ecb4c57894369a997ed1306253288725441a1b529a"
   }
  }
 },
 "nbformat": 4,
 "nbformat_minor": 2
}
