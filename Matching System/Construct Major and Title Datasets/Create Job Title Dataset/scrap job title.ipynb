{
 "cells": [
  {
   "cell_type": "code",
   "execution_count": 22,
   "metadata": {},
   "outputs": [],
   "source": [
    "from selenium import webdriver\n",
    "from lxml import etree\n",
    "import pandas as pd\n",
    "\n",
    "import time"
   ]
  },
  {
   "cell_type": "code",
   "execution_count": 23,
   "metadata": {},
   "outputs": [
    {
     "name": "stderr",
     "output_type": "stream",
     "text": [
      "/var/folders/35/qlk674y12zz_m3zs5h1ht6_c0000gn/T/ipykernel_841/173656933.py:8: DeprecationWarning: use options instead of chrome_options\n",
      "  web = webdriver.Chrome(chrome_options=options)\n"
     ]
    }
   ],
   "source": [
    "# escape the detection of chrome and set headless chrome\n",
    "options = webdriver.ChromeOptions()\n",
    "options.add_experimental_option(\"useAutomationExtension\", False)\n",
    "options.add_experimental_option(\"excludeSwitches\",[\"enable-automation\"])\n",
    "options.add_argument(\"--headless\")\n",
    "options.add_argument(\"--disable-gpu\")\n",
    "\n",
    "web = webdriver.Chrome(chrome_options=options)"
   ]
  },
  {
   "cell_type": "code",
   "execution_count": 24,
   "metadata": {},
   "outputs": [],
   "source": [
    "web.get(\"https://zety.com/blog/job-titles\")\n",
    "time.sleep(2)"
   ]
  },
  {
   "cell_type": "code",
   "execution_count": 25,
   "metadata": {},
   "outputs": [
    {
     "data": {
      "text/plain": [
       "'\\nfor i in range(1,32):\\n    xpath = \"/html/body/main/div[1]/div[3]/ul[3]/li[{num}]/a\".format(num=i)\\n    web.find_element_by_xpath(xpath).click()\\n    time.sleep(2)\\n'"
      ]
     },
     "execution_count": 25,
     "metadata": {},
     "output_type": "execute_result"
    }
   ],
   "source": [
    "# /html/body/main/div[1]/div[3]/ul[3]/li[1]/a\n",
    "# /html/body/main/div[1]/div[3]/ul[3]/li[31]/a\n",
    "'''\n",
    "for i in range(1,32):\n",
    "    xpath = \"/html/body/main/div[1]/div[3]/ul[3]/li[{num}]/a\".format(num=i)\n",
    "    web.find_element_by_xpath(xpath).click()\n",
    "    time.sleep(2)\n",
    "'''\n",
    "    # explore the format of the xpath\n",
    "    # /html/body/main/div[1]/div[3]/h3[1]\n",
    "    # /html/body/main/div[1]/div[3]/ul[4]/li[1]\n",
    "    # /html/body/main/div[1]/div[3]/ul[4]/li[1]/text()\n",
    "    # /html/body/main/div[1]/div[3]/h3[2]\n",
    "    # /html/body/main/div[1]/div[3]/ul[5]/li[1]\n",
    "    # /html/body/main/div[1]/div[3]/h3[7]/strong\n",
    "    # /html/body/main/div[1]/div[3]/ul[9]/li[1]\n",
    "    # /html/body/main/div[1]/div[3]/h3[8]\n",
    "    # last one\n",
    "    # /html/body/main/div[1]/div[3]/h3[32]/strong\n",
    "    # /html/body/main/div[1]/div[3]/ul[46]/li[1]\n"
   ]
  },
  {
   "cell_type": "code",
   "execution_count": 26,
   "metadata": {},
   "outputs": [],
   "source": [
    "source = web.page_source"
   ]
  },
  {
   "cell_type": "code",
   "execution_count": 27,
   "metadata": {},
   "outputs": [],
   "source": [
    "job_title_list = []\n",
    "tree = etree.HTML(source)\n",
    "for ele in range(4,47):\n",
    "    xpath = \"/html/body/main/div[1]/div[3]/ul[{num}]/li\".format(num=ele)\n",
    "    content = tree.xpath(xpath)\n",
    "    for child in content:\n",
    "        job_title = child.xpath(\"./text()\")\n",
    "        if len(job_title)==0:\n",
    "            continue\n",
    "        else:\n",
    "            job_title_list.append(job_title[0])\n",
    "\n"
   ]
  },
  {
   "cell_type": "code",
   "execution_count": 28,
   "metadata": {},
   "outputs": [],
   "source": [
    "title = pd.DataFrame({\"job_title\":job_title_list})\n",
    "title.to_excel(\"uncleaned_job_title.xlsx\")"
   ]
  },
  {
   "cell_type": "code",
   "execution_count": 29,
   "metadata": {},
   "outputs": [],
   "source": [
    "web.close()"
   ]
  }
 ],
 "metadata": {
  "kernelspec": {
   "display_name": "Python 3.8.12 ('base')",
   "language": "python",
   "name": "python3"
  },
  "language_info": {
   "codemirror_mode": {
    "name": "ipython",
    "version": 3
   },
   "file_extension": ".py",
   "mimetype": "text/x-python",
   "name": "python",
   "nbconvert_exporter": "python",
   "pygments_lexer": "ipython3",
   "version": "3.8.12"
  },
  "orig_nbformat": 4,
  "vscode": {
   "interpreter": {
    "hash": "78db1858765fb968cc8932ecb4c57894369a997ed1306253288725441a1b529a"
   }
  }
 },
 "nbformat": 4,
 "nbformat_minor": 2
}
