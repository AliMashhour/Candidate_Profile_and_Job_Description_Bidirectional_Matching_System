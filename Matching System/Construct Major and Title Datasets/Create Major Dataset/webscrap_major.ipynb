{
 "cells": [
  {
   "cell_type": "code",
   "execution_count": 15,
   "metadata": {},
   "outputs": [],
   "source": [
    "import pandas as pd\n",
    "from lxml import etree\n",
    "from selenium import webdriver\n",
    "\n",
    "import time"
   ]
  },
  {
   "cell_type": "code",
   "execution_count": 16,
   "metadata": {},
   "outputs": [
    {
     "name": "stderr",
     "output_type": "stream",
     "text": [
      "/var/folders/35/qlk674y12zz_m3zs5h1ht6_c0000gn/T/ipykernel_2396/173656933.py:8: DeprecationWarning: use options instead of chrome_options\n",
      "  web = webdriver.Chrome(chrome_options=options)\n"
     ]
    }
   ],
   "source": [
    "# escape the detection of chrome and set headless chrome\n",
    "options = webdriver.ChromeOptions()\n",
    "options.add_experimental_option(\"useAutomationExtension\", False)\n",
    "options.add_experimental_option(\"excludeSwitches\",[\"enable-automation\"])\n",
    "options.add_argument(\"--headless\")\n",
    "options.add_argument(\"--disable-gpu\")\n",
    "\n",
    "web = webdriver.Chrome(chrome_options=options)"
   ]
  },
  {
   "cell_type": "code",
   "execution_count": 17,
   "metadata": {},
   "outputs": [],
   "source": [
    "web.get(\"https://www.act.org/content/act/en/research/reports/act-publications/college-choice-report-class-of-2013/college-majors-and-occupational-choices/college-majors-and-occupational-choices.html\")\n",
    "time.sleep(2)\n",
    "source = web.page_source"
   ]
  },
  {
   "cell_type": "code",
   "execution_count": 18,
   "metadata": {},
   "outputs": [],
   "source": [
    "tree = etree.HTML(source)\n",
    "parent_cat = tree.xpath(\"/html/body/div[4]/div[2]/div[2]/div/div[2]/div/div[1]/div/p\")\n",
    "child_cat = tree.xpath(\"/html/body/div[4]/div[2]/div[2]/div/div[2]/div/div[1]/div/ul\")\n",
    "parent_list = []\n",
    "child_list = []\n",
    "for i in parent_cat[1:-1]:\n",
    "    parent_name = i.xpath(\"./b/text()\")[0]\n",
    "    parent_list\n",
    "    "
   ]
  },
  {
   "cell_type": "code",
   "execution_count": 19,
   "metadata": {},
   "outputs": [],
   "source": [
    "for h in child_cat:\n",
    "    inner = h.xpath(\"./li\")\n",
    "    for content in inner:\n",
    "        child_name = content.xpath(\"./text()\")[0]\n",
    "        child_list.append(child_name)\n"
   ]
  },
  {
   "cell_type": "code",
   "execution_count": 20,
   "metadata": {},
   "outputs": [],
   "source": [
    "final_list = parent_list+child_list\n",
    "web_info = pd.DataFrame({\"Major Name\":final_list})\n",
    "web_info.to_csv(\"uncleaned_student_major.csv\")"
   ]
  },
  {
   "cell_type": "code",
   "execution_count": 21,
   "metadata": {},
   "outputs": [],
   "source": [
    "web.close()"
   ]
  }
 ],
 "metadata": {
  "kernelspec": {
   "display_name": "Python 3.8.12 ('base')",
   "language": "python",
   "name": "python3"
  },
  "language_info": {
   "codemirror_mode": {
    "name": "ipython",
    "version": 3
   },
   "file_extension": ".py",
   "mimetype": "text/x-python",
   "name": "python",
   "nbconvert_exporter": "python",
   "pygments_lexer": "ipython3",
   "version": "3.8.12"
  },
  "orig_nbformat": 4,
  "vscode": {
   "interpreter": {
    "hash": "78db1858765fb968cc8932ecb4c57894369a997ed1306253288725441a1b529a"
   }
  }
 },
 "nbformat": 4,
 "nbformat_minor": 2
}
