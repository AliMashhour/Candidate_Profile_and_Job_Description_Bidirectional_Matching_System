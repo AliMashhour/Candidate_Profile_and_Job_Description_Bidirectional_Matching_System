{
 "cells": [
  {
   "cell_type": "code",
   "execution_count": 1,
   "metadata": {},
   "outputs": [],
   "source": [
    "import pandas as pd\n",
    "import re\n",
    "from nltk.stem import WordNetLemmatizer\n",
    "from nltk.stem.porter import PorterStemmer\n",
    "from nltk.corpus import stopwords"
   ]
  },
  {
   "cell_type": "markdown",
   "metadata": {},
   "source": [
    "### reading new job list"
   ]
  },
  {
   "cell_type": "code",
   "execution_count": 2,
   "metadata": {},
   "outputs": [
    {
     "data": {
      "text/html": [
       "<div>\n",
       "<style scoped>\n",
       "    .dataframe tbody tr th:only-of-type {\n",
       "        vertical-align: middle;\n",
       "    }\n",
       "\n",
       "    .dataframe tbody tr th {\n",
       "        vertical-align: top;\n",
       "    }\n",
       "\n",
       "    .dataframe thead th {\n",
       "        text-align: right;\n",
       "    }\n",
       "</style>\n",
       "<table border=\"1\" class=\"dataframe\">\n",
       "  <thead>\n",
       "    <tr style=\"text-align: right;\">\n",
       "      <th></th>\n",
       "      <th>articles_candidateedu_202207191537</th>\n",
       "    </tr>\n",
       "  </thead>\n",
       "  <tbody>\n",
       "    <tr>\n",
       "      <th>0</th>\n",
       "      <td>major</td>\n",
       "    </tr>\n",
       "    <tr>\n",
       "      <th>1</th>\n",
       "      <td>NaN</td>\n",
       "    </tr>\n",
       "    <tr>\n",
       "      <th>2</th>\n",
       "      <td>Anthropology and Business Management</td>\n",
       "    </tr>\n",
       "    <tr>\n",
       "      <th>3</th>\n",
       "      <td>International Business</td>\n",
       "    </tr>\n",
       "    <tr>\n",
       "      <th>4</th>\n",
       "      <td>English</td>\n",
       "    </tr>\n",
       "    <tr>\n",
       "      <th>...</th>\n",
       "      <td>...</td>\n",
       "    </tr>\n",
       "    <tr>\n",
       "      <th>4762</th>\n",
       "      <td>MetacoGG content</td>\n",
       "    </tr>\n",
       "    <tr>\n",
       "      <th>4763</th>\n",
       "      <td>English Translation and Interpretation</td>\n",
       "    </tr>\n",
       "    <tr>\n",
       "      <th>4764</th>\n",
       "      <td>环境工程, 知识产权</td>\n",
       "    </tr>\n",
       "    <tr>\n",
       "      <th>4765</th>\n",
       "      <td>Professional Studies, Digital Photography</td>\n",
       "    </tr>\n",
       "    <tr>\n",
       "      <th>4766</th>\n",
       "      <td>Imaging and Photographic Technology</td>\n",
       "    </tr>\n",
       "  </tbody>\n",
       "</table>\n",
       "<p>4767 rows × 1 columns</p>\n",
       "</div>"
      ],
      "text/plain": [
       "             articles_candidateedu_202207191537\n",
       "0                                         major\n",
       "1                                           NaN\n",
       "2          Anthropology and Business Management\n",
       "3                        International Business\n",
       "4                                       English\n",
       "...                                         ...\n",
       "4762                           MetacoGG content\n",
       "4763     English Translation and Interpretation\n",
       "4764                                 环境工程, 知识产权\n",
       "4765  Professional Studies, Digital Photography\n",
       "4766        Imaging and Photographic Technology\n",
       "\n",
       "[4767 rows x 1 columns]"
      ]
     },
     "execution_count": 2,
     "metadata": {},
     "output_type": "execute_result"
    }
   ],
   "source": [
    "df_more = pd.read_excel(\"more_majors.xlsx\")\n",
    "df_more"
   ]
  },
  {
   "cell_type": "code",
   "execution_count": 3,
   "metadata": {},
   "outputs": [
    {
     "data": {
      "text/html": [
       "<div>\n",
       "<style scoped>\n",
       "    .dataframe tbody tr th:only-of-type {\n",
       "        vertical-align: middle;\n",
       "    }\n",
       "\n",
       "    .dataframe tbody tr th {\n",
       "        vertical-align: top;\n",
       "    }\n",
       "\n",
       "    .dataframe thead th {\n",
       "        text-align: right;\n",
       "    }\n",
       "</style>\n",
       "<table border=\"1\" class=\"dataframe\">\n",
       "  <thead>\n",
       "    <tr style=\"text-align: right;\">\n",
       "      <th></th>\n",
       "      <th>major</th>\n",
       "    </tr>\n",
       "  </thead>\n",
       "  <tbody>\n",
       "    <tr>\n",
       "      <th>1</th>\n",
       "      <td>NaN</td>\n",
       "    </tr>\n",
       "    <tr>\n",
       "      <th>2</th>\n",
       "      <td>Anthropology and Business Management</td>\n",
       "    </tr>\n",
       "    <tr>\n",
       "      <th>3</th>\n",
       "      <td>International Business</td>\n",
       "    </tr>\n",
       "    <tr>\n",
       "      <th>4</th>\n",
       "      <td>English</td>\n",
       "    </tr>\n",
       "    <tr>\n",
       "      <th>5</th>\n",
       "      <td>NaN</td>\n",
       "    </tr>\n",
       "  </tbody>\n",
       "</table>\n",
       "</div>"
      ],
      "text/plain": [
       "0                                 major\n",
       "1                                   NaN\n",
       "2  Anthropology and Business Management\n",
       "3                International Business\n",
       "4                               English\n",
       "5                                   NaN"
      ]
     },
     "execution_count": 3,
     "metadata": {},
     "output_type": "execute_result"
    }
   ],
   "source": [
    "df_more.columns = df_more.iloc[0]\n",
    "df_more.drop(df_more.index[0],inplace=True)\n",
    "df_more.head()"
   ]
  },
  {
   "cell_type": "code",
   "execution_count": 4,
   "metadata": {},
   "outputs": [
    {
     "data": {
      "text/html": [
       "<div>\n",
       "<style scoped>\n",
       "    .dataframe tbody tr th:only-of-type {\n",
       "        vertical-align: middle;\n",
       "    }\n",
       "\n",
       "    .dataframe tbody tr th {\n",
       "        vertical-align: top;\n",
       "    }\n",
       "\n",
       "    .dataframe thead th {\n",
       "        text-align: right;\n",
       "    }\n",
       "</style>\n",
       "<table border=\"1\" class=\"dataframe\">\n",
       "  <thead>\n",
       "    <tr style=\"text-align: right;\">\n",
       "      <th></th>\n",
       "      <th>major</th>\n",
       "    </tr>\n",
       "  </thead>\n",
       "  <tbody>\n",
       "    <tr>\n",
       "      <th>2</th>\n",
       "      <td>Anthropology and Business Management</td>\n",
       "    </tr>\n",
       "    <tr>\n",
       "      <th>3</th>\n",
       "      <td>International Business</td>\n",
       "    </tr>\n",
       "    <tr>\n",
       "      <th>4</th>\n",
       "      <td>English</td>\n",
       "    </tr>\n",
       "    <tr>\n",
       "      <th>6</th>\n",
       "      <td>Computer Science and Engineering</td>\n",
       "    </tr>\n",
       "    <tr>\n",
       "      <th>7</th>\n",
       "      <td>Bachelor of Science in Accounting</td>\n",
       "    </tr>\n",
       "    <tr>\n",
       "      <th>...</th>\n",
       "      <td>...</td>\n",
       "    </tr>\n",
       "    <tr>\n",
       "      <th>4762</th>\n",
       "      <td>MetacoGG content</td>\n",
       "    </tr>\n",
       "    <tr>\n",
       "      <th>4763</th>\n",
       "      <td>English Translation and Interpretation</td>\n",
       "    </tr>\n",
       "    <tr>\n",
       "      <th>4764</th>\n",
       "      <td>环境工程, 知识产权</td>\n",
       "    </tr>\n",
       "    <tr>\n",
       "      <th>4765</th>\n",
       "      <td>Professional Studies, Digital Photography</td>\n",
       "    </tr>\n",
       "    <tr>\n",
       "      <th>4766</th>\n",
       "      <td>Imaging and Photographic Technology</td>\n",
       "    </tr>\n",
       "  </tbody>\n",
       "</table>\n",
       "<p>4764 rows × 1 columns</p>\n",
       "</div>"
      ],
      "text/plain": [
       "0                                         major\n",
       "2          Anthropology and Business Management\n",
       "3                        International Business\n",
       "4                                       English\n",
       "6              Computer Science and Engineering\n",
       "7             Bachelor of Science in Accounting\n",
       "...                                         ...\n",
       "4762                           MetacoGG content\n",
       "4763     English Translation and Interpretation\n",
       "4764                                 环境工程, 知识产权\n",
       "4765  Professional Studies, Digital Photography\n",
       "4766        Imaging and Photographic Technology\n",
       "\n",
       "[4764 rows x 1 columns]"
      ]
     },
     "execution_count": 4,
     "metadata": {},
     "output_type": "execute_result"
    }
   ],
   "source": [
    "df_more.dropna(inplace=True)\n",
    "df_more"
   ]
  },
  {
   "cell_type": "code",
   "execution_count": 5,
   "metadata": {},
   "outputs": [
    {
     "data": {
      "text/plain": [
       "4764"
      ]
     },
     "execution_count": 5,
     "metadata": {},
     "output_type": "execute_result"
    }
   ],
   "source": [
    "new_major_list = list(set([i.lower() for i in df_more['major']]))\n",
    "len(new_major_list)"
   ]
  },
  {
   "cell_type": "markdown",
   "metadata": {},
   "source": [
    "### cleaning"
   ]
  },
  {
   "cell_type": "code",
   "execution_count": 6,
   "metadata": {},
   "outputs": [
    {
     "name": "stdout",
     "output_type": "stream",
     "text": [
      "['marketing', 'psychology & economic', 'innovation organizational ef ectiveness', 'management technology', 'telecommunicaton engineer tech', 'computer system & network', 'electronics & computer engineering', 'ee communication', 'technology', 'human resource management & management']\n"
     ]
    },
    {
     "data": {
      "text/plain": [
       "4764"
      ]
     },
     "execution_count": 6,
     "metadata": {},
     "output_type": "execute_result"
    }
   ],
   "source": [
    "new_major_list_1 =[]\n",
    "import spacy\n",
    "nlp = spacy.load(\"en_core_web_sm\")\n",
    "lemmatizer = nlp.get_pipe(\"lemmatizer\")\n",
    "\n",
    "for i in new_major_list: \n",
    "    i_1 = i.replace(\"master of science,\",\"\").replace(\"master in science,\",\"\").replace(\"master of science in\",\"\").replace(\"master of art,\",\"\").replace(\"master in art\",\"\").replace(\"master of art in\",\"\").replace(\"master,\",\"\").replace(\"masters of\",\"\").replace(\"masters in\",\"\").replace(\"master's degree in\",\"\").replace(\"masters\",\"\").replace(\"msater\",\"\").replace(\"(ms),\",\"\").replace(\"(msc.)\",\"\").replace(\"(msc) in\",\"\").replace(\"(msc),\",\"\").replace(\"msc of\",\"\").replace(\"(m.s.) in\",\"\").replace(\"(m.s.e.) of\",\"\").replace(\"m.s. in\",\"\").replace(\"m.s.\",\"\").replace(\"ms of\",\"\").replace(\"ms in\",\"\").replace(\"ms,\",\"\").replace(\"ms,\",\"\").replace(\"(m. a. sc),\",\"\").replace(\"(m.a.) in\",\"\").replace(\"ma in\",\"\").replace(\"professional diploma in\",\"\").replace(\"diploma in\",\"\").replace(\"postgraduate\",\"\")\n",
    "    i_2 = i_1.replace(\"bachelor of science,\",\"\").replace(\"bachelor in science,\",\"\").replace(\"bachelor of science in\",\"\").replace(\"bachelor of art,\",\"\").replace(\"bachelor in art\",\"\").replace(\"bachelor of art in\",\"\").replace(\"bachelor,\",\"\").replace(\"bachelors of\",\"\").replace(\"bachelors in\",\"\").replace(\"bachelor's degree in\",\"\").replace(\"bachelors\",\"\").replace(\"bachelor\",\"\").replace(\"(bs),\",\"\").replace(\"(bsc.)\",\"\").replace(\"(bsc) in\",\"\").replace(\"(bsc),\",\"\").replace(\"bsc of\",\"\").replace(\"(b.s.) in\",\"\").replace(\"(b.s.e.) of\",\"\").replace(\"b.s. in\",\"\").replace(\"b.s.\",\"\").replace(\"bs of\",\"\").replace(\"bs in\",\"\").replace(\"bs,\",\"\").replace(\"bs,\",\"\").replace(\"(b. a. sc),\",\"\").replace(\"(b.a.) in\",\"\").replace(\"ba in\",\"\")\n",
    "    i_3 = re.sub(r\".{0,1}m.{0,1}b.{0,1}a.{0,2}(in|of|)\",\"\",i_2)\n",
    "    i_4 = re.sub('[^a-zA-Z&-/.,]',\" \",i_3)\n",
    "    i_5 = [word for word in i_4.split() if not word in set(stopwords.words(\"english\"))]\n",
    "    i_7 = \" \".join(i_5).strip()\n",
    "    doc = nlp(i_7)\n",
    "    new_major_list_1.append(\" \".join([token.lemma_ for token in doc]))\n",
    "\n",
    "print(new_major_list_1[:10])\n",
    "len(new_major_list_1)"
   ]
  },
  {
   "cell_type": "code",
   "execution_count": 7,
   "metadata": {},
   "outputs": [
    {
     "name": "stdout",
     "output_type": "stream",
     "text": [
      "['marketing', 'psychology & economic', 'innovation organizational ef ectiveness', 'management technology', 'telecommunicaton engineer tech', 'computer system & network', 'electronics & computer engineering', 'ee communication', 'technology', 'human resource management & management']\n"
     ]
    },
    {
     "data": {
      "text/plain": [
       "4914"
      ]
     },
     "execution_count": 7,
     "metadata": {},
     "output_type": "execute_result"
    }
   ],
   "source": [
    "# second round of cleaning\n",
    "new_major_list_2 = []\n",
    "for i in new_major_list_1:\n",
    "    if \"/\" in i:\n",
    "        temp_list = i.split(\"/\")\n",
    "        for sep_ele in temp_list:\n",
    "            new_major_list_2.append(sep_ele.strip())\n",
    "    else:\n",
    "        new_major_list_2.append(i)\n",
    "\n",
    "print(new_major_list_2[:10])\n",
    "len(new_major_list_2)"
   ]
  },
  {
   "cell_type": "code",
   "execution_count": 8,
   "metadata": {},
   "outputs": [
    {
     "name": "stdout",
     "output_type": "stream",
     "text": [
      "['marketing', 'psychology economic', 'innovation organizational ectiveness', 'management technology', 'telecommunicaton engineer tech', 'computer system network', 'electronics computer engineering', 'communication', 'technology', 'human resource management management']\n"
     ]
    },
    {
     "data": {
      "text/plain": [
       "4797"
      ]
     },
     "execution_count": 8,
     "metadata": {},
     "output_type": "execute_result"
    }
   ],
   "source": [
    "new_major_list_3 = []\n",
    "for i in new_major_list_2:\n",
    "    if \".\" in i:\n",
    "        continue\n",
    "    else:\n",
    "\n",
    "        i_1 = re.sub(r\"\\(.*?\\)\",\"\",i)\n",
    "\n",
    "        if \"(\" in i_1:\n",
    "            i_2 = i_1.split(\"(\")[0]\n",
    "        elif \")\" in i_1:\n",
    "            i_2 = i_1.split(\")\")[1]\n",
    "        else:\n",
    "            i_2 = i_1\n",
    "        detect = i_2.strip()\n",
    "\n",
    "        temp_l = []\n",
    "        for item in detect.split():\n",
    "            if len(item)<=2:\n",
    "                continue\n",
    "            else:\n",
    "                temp_l.append(item)\n",
    "        i_3 = \" \".join(temp_l).replace(\"  \",\" \").strip()\n",
    "        new_major_list_3.append(i_3)\n",
    "\n",
    "    \n",
    "print(new_major_list_3[:10])\n",
    "len(new_major_list_3)"
   ]
  },
  {
   "cell_type": "code",
   "execution_count": 9,
   "metadata": {},
   "outputs": [
    {
     "name": "stdout",
     "output_type": "stream",
     "text": [
      "['marketing', 'psychology economic', 'innovation organizational ectiveness', 'management technology', 'telecommunicaton engineer tech', 'computer system network', 'electronic computer engineering', 'communication', 'technology', 'human resource management management']\n"
     ]
    },
    {
     "data": {
      "text/plain": [
       "4525"
      ]
     },
     "execution_count": 9,
     "metadata": {},
     "output_type": "execute_result"
    }
   ],
   "source": [
    "new_major_list_4 = []\n",
    "for i in new_major_list_3:\n",
    "    if len(i.strip())<=3:\n",
    "        continue\n",
    "    else:\n",
    "        if \",\" in i:\n",
    "            for ele in i.split(\",\"):\n",
    "                new_major_list_4.append(ele.strip())\n",
    "        else:\n",
    "            new_major_list_4.append(i)\n",
    "    \n",
    "new_major_list_5 = []\n",
    "for i in new_major_list_4:\n",
    "    i_4 = i.replace(\"  \",\"\").strip()\n",
    "    i_5 = [word for word in i_4.split() if not word in set(stopwords.words(\"english\"))]\n",
    "    i_7 = \" \".join(i_5).strip()\n",
    "    doc = nlp(i_7)\n",
    "    new_major_list_5.append(\" \".join([token.lemma_ for token in doc]))\n",
    "\n",
    "\n",
    "print(new_major_list_5[:10])\n",
    "len(new_major_list_5)"
   ]
  },
  {
   "cell_type": "code",
   "execution_count": 10,
   "metadata": {},
   "outputs": [
    {
     "data": {
      "text/plain": [
       "3732"
      ]
     },
     "execution_count": 10,
     "metadata": {},
     "output_type": "execute_result"
    }
   ],
   "source": [
    "new_major_list_5 = list(set(new_major_list_5))\n",
    "len(new_major_list_5)"
   ]
  },
  {
   "cell_type": "markdown",
   "metadata": {},
   "source": [
    "### merging job list"
   ]
  },
  {
   "cell_type": "code",
   "execution_count": 11,
   "metadata": {},
   "outputs": [
    {
     "data": {
      "text/html": [
       "<div>\n",
       "<style scoped>\n",
       "    .dataframe tbody tr th:only-of-type {\n",
       "        vertical-align: middle;\n",
       "    }\n",
       "\n",
       "    .dataframe tbody tr th {\n",
       "        vertical-align: top;\n",
       "    }\n",
       "\n",
       "    .dataframe thead th {\n",
       "        text-align: right;\n",
       "    }\n",
       "</style>\n",
       "<table border=\"1\" class=\"dataframe\">\n",
       "  <thead>\n",
       "    <tr style=\"text-align: right;\">\n",
       "      <th></th>\n",
       "      <th>Unnamed: 0</th>\n",
       "      <th>major</th>\n",
       "    </tr>\n",
       "  </thead>\n",
       "  <tbody>\n",
       "    <tr>\n",
       "      <th>0</th>\n",
       "      <td>0</td>\n",
       "      <td>public administration</td>\n",
       "    </tr>\n",
       "    <tr>\n",
       "      <th>1</th>\n",
       "      <td>1</td>\n",
       "      <td>german language &amp; literature</td>\n",
       "    </tr>\n",
       "    <tr>\n",
       "      <th>2</th>\n",
       "      <td>2</td>\n",
       "      <td>visual and performing arts</td>\n",
       "    </tr>\n",
       "    <tr>\n",
       "      <th>3</th>\n",
       "      <td>3</td>\n",
       "      <td>medical office/secretarial</td>\n",
       "    </tr>\n",
       "    <tr>\n",
       "      <th>4</th>\n",
       "      <td>4</td>\n",
       "      <td>medical office</td>\n",
       "    </tr>\n",
       "  </tbody>\n",
       "</table>\n",
       "</div>"
      ],
      "text/plain": [
       "   Unnamed: 0                         major\n",
       "0           0         public administration\n",
       "1           1  german language & literature\n",
       "2           2    visual and performing arts\n",
       "3           3    medical office/secretarial\n",
       "4           4                medical office"
      ]
     },
     "execution_count": 11,
     "metadata": {},
     "output_type": "execute_result"
    }
   ],
   "source": [
    "df_original = pd.read_excel(\"major.xlsx\")\n",
    "df_original.head()"
   ]
  },
  {
   "cell_type": "code",
   "execution_count": 12,
   "metadata": {},
   "outputs": [
    {
     "data": {
      "text/plain": [
       "569"
      ]
     },
     "execution_count": 12,
     "metadata": {},
     "output_type": "execute_result"
    }
   ],
   "source": [
    "original_major_list = list(df_original['major'])\n",
    "len(original_major_list)"
   ]
  },
  {
   "cell_type": "code",
   "execution_count": 13,
   "metadata": {},
   "outputs": [
    {
     "data": {
      "text/plain": [
       "4186"
      ]
     },
     "execution_count": 13,
     "metadata": {},
     "output_type": "execute_result"
    }
   ],
   "source": [
    "merged_list = list(set(new_major_list_5+original_major_list))\n",
    "len(merged_list)"
   ]
  },
  {
   "cell_type": "code",
   "execution_count": 14,
   "metadata": {},
   "outputs": [],
   "source": [
    "temperory_explore = pd.DataFrame({\"major\":merged_list})\n",
    "temperory_explore.to_excel(\"temp_merged_major.xlsx\")"
   ]
  }
 ],
 "metadata": {
  "kernelspec": {
   "display_name": "Python 3.8.12 ('base')",
   "language": "python",
   "name": "python3"
  },
  "language_info": {
   "codemirror_mode": {
    "name": "ipython",
    "version": 3
   },
   "file_extension": ".py",
   "mimetype": "text/x-python",
   "name": "python",
   "nbconvert_exporter": "python",
   "pygments_lexer": "ipython3",
   "version": "3.8.12"
  },
  "orig_nbformat": 4,
  "vscode": {
   "interpreter": {
    "hash": "78db1858765fb968cc8932ecb4c57894369a997ed1306253288725441a1b529a"
   }
  }
 },
 "nbformat": 4,
 "nbformat_minor": 2
}
