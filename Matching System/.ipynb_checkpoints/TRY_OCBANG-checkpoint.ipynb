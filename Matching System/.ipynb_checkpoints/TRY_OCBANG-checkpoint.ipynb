{
 "cells": [
  {
   "cell_type": "code",
   "execution_count": 32,
   "metadata": {},
   "outputs": [],
   "source": [
    "import pandas as pd\n",
    "import re\n",
    "from datetime import datetime"
   ]
  },
  {
   "cell_type": "code",
   "execution_count": 17,
   "metadata": {},
   "outputs": [],
   "source": [
    "# use google pre-trained model\n",
    "from gensim.models.keyedvectors import KeyedVectors\n",
    "# the file path should be changed to the local absolute path\n",
    "word_vectors = KeyedVectors.load_word2vec_format(\"/Users/zhiyuzhang/Desktop/ocbang/Word2Vec/Google-source/GoogleNews-vectors-negative300.bin\",  binary = True, limit = 1000000)"
   ]
  },
  {
   "cell_type": "markdown",
   "metadata": {},
   "source": [
    "# deal with parsing dataset (requirements are shown below)"
   ]
  },
  {
   "cell_type": "code",
   "execution_count": null,
   "metadata": {},
   "outputs": [],
   "source": [
    "### JOB DESCRIPTION PART\n",
    "## It is better to parse data into the following format. (dictionary level: company - position - id - details)\n",
    "## Details should include following keys: \n",
    "# 1) Position country & city (better to use code to represent)\n",
    "# 2) Recruiter\n",
    "# 3) Type (self-defined)\n",
    "# 4) Seniority\n",
    "# 5) Degree Requirement & YOE Requirement (Seperated by |)\n",
    "# 6) Responsibilities\n",
    "# 7) Basic Qualifications (excluded 5)\n",
    "# 8) Preferred Qualifications\n",
    "# 9) Recruiting History\n",
    "\n",
    "## Some import points needed to be notified:\n",
    "# 1) 4,5,6,7,8 Could be None.\n",
    "# 2) 1 could be a filtering requirement.\n",
    "#    2 could be a sorting requirement/ vectorized requirement/ comparable requirement.\n",
    "#    3 could be a comparable requirement.\n",
    "#    4 could be a filtering requirement/ sorting requirement.\n",
    "#    5,6,7,8 could be vectorized requirements.\n",
    "#    9 could be a comparable requirement.\n",
    "# 3) Some problems may occur in parsing data.\n",
    "#   - 5 always appears in the first two sentences/ one sentence of qualification part.\n",
    "#   -- one sentence: https://careers.tiktok.com/position/6986837310156720397/detail\n",
    "#   -- two sentences: https://careers.tiktok.com/position/6992655739160774942/detail\n",
    "#   -- If both basic and preferred qualications have 5, use preferred standard.\n",
    "#   - Most JDs have good structure. (just represented by different key words)\n",
    "#   -- Special condition: https://sg.talent.com/view?id=ec5949e2589e\n",
    "#   - If basic qualifications and preferred qualifications should be treated differently?\n",
    "#   - 6 always has general description and 7 always has specific terms.\n",
    "#   - Should internship experiences be counted as working experience? - Depend on the seniority?\n",
    "#   - For recruiting history, how long do we need to consider/ do we need to include all different positions a specific HR recruits.\n",
    "\n",
    "\"\"\"\n",
    "EXAMPLE:\n",
    "company_info = {\n",
    "    \"Amazon\":{\n",
    "        \"SDE\":{\"A000001\":{\"Position_Country&City\":001123, \"Recruiter\":\"Lam\", \"Type\":\"CS\", \"Seniority\":\"Manager\", \"Degree&YOE_Requirement\": \"at least bachelor with 3-year working experience\",\"Responsibilities\":\"xxx\",\"Basic_Qualifications\":\"xxx\",\"Preferred_Qualifications\":\"xxx\",\"Recruiting_History\":[\"Axxxxxx\",\"Axxxxxx\",\"Axxxxxx\"]}},\n",
    "        \"DS\":{\"A000002\":{\"Position_Country&City\":001124, \"Recruiter\":\"Tam\", \"Type\":\"DS\", \"Seniority\":\"Entry\", \"Degree&YOE_Requirement\": \"at least bachelor with 3-year working experience\",\"Responsibilities\":\"xxx\",\"Basic_Qualifications\":\"xxx\",\"Preferred_Qualifications\":\"xxx\",\"Recruiting_History\":[\"Axxxxxx\",\"Axxxxxx\",\"Axxxxxx\"]}}\n",
    "            },\n",
    "    \"Google\":{\n",
    "        \"Communication\":{\"G000001\":{\"Position_Country&City\":001125, \"Recruiter\":\"Bob\", \"Type\":\"Functional\", \"Seniority\":\"Manager\", \"Degree&YOE_Requirement\": \"at least bachelor with 3-year working experience\",\"Responsibilities\":\"xxx\",\"Basic_Qualifications\":\"xxx\",\"Preferred_Qualifications\":\"xxx\",\"Recruiting_History\":[\"Axxxxxx\",\"Axxxxxx\",\"Axxxxxx\"]}},\n",
    "        \"ML Researcher\":{\"G000002\":{\"Position_Country&City\":001126, \"Recruiter\":\"Kaite\", \"Type\":\"Research\", \"Seniority\":\"Entry\", \"Degree&YOE_Requirement\": \"at least bachelor with 3-year working experience\",\"Responsibilities\":\"xxx\",\"Basic_Qualifications\":\"xxx\",\"Preferred_Qualifications\":\"xxx\",\"Recruiting_History\":[\"Axxxxxx\",\"Axxxxxx\",\"Axxxxxx\"]}}\n",
    "            },\n",
    "}\n",
    "\"\"\""
   ]
  },
  {
   "cell_type": "code",
   "execution_count": null,
   "metadata": {},
   "outputs": [],
   "source": [
    "### CANDIDATE RESUME PART\n",
    "## It is better to parse data into the following format. (dictionary level: id - name - details)\n",
    "## Details should include following keys: \n",
    "# 1) Willing to work country & city (better to use code to represent)\n",
    "# 2) Current Status (Working as a full-time/ Still trying to find a job)\n",
    "# 3) Highest Degree & Major (Seperated by |)\n",
    "# 4) YOE & Industry\n",
    "# 5) Skillset\n",
    "# 6) Working Experience\n",
    "# 7) Project Experience\n",
    "# 8) Posting History\n",
    "\n",
    "## Some import points needed to be notified:\n",
    "# 1) 5,6,7,8 could be None.\n",
    "# 2) 1 could be a filtering requirement.\n",
    "#    2 could be a sorting requirement.\n",
    "#    3,4 could be a filtering requirement/ sorting requirement.\n",
    "#    5,6,7 could be vectorized requirements.\n",
    "#    8 could be a comparable requirement.\n",
    "# 3) Some problems may occur in parsing data.\n",
    "#   - 1 could be a flexible problem - if has work authorization & if needs sponsor\n",
    "#   - Current status can be deducted from working experience, but could be inaccurate\n",
    "#   - If treat the name of related course in skillset.\n",
    "#   - For posting history, how long do we need to consider.\n",
    "#   - Should internship experiences be counted as working experience? - Depend on the seniority?\n",
    "\n",
    "\"\"\"\n",
    "EXAMPLE:\n",
    "candidates_info = {\n",
    "    \"C000001\":{\n",
    "        \"Bob\":{\"Country&City\":\"US_Citizen\",\n",
    "        \"Current_Status\":\"out of work\",\n",
    "        \"Degree&Major\":\"MIT Master of Science in Computer Science\",\n",
    "        \"YOE&Industry\":\"5 years with Software Engineer\",\n",
    "        \"skills\":\"Python, JAVA, SQL, Data_Structure\",\n",
    "        \"working_experiences\":\"Google...\",\n",
    "        \"project_experiences\":\"recommendation system\",\n",
    "        \"posting_history\":[\"A000001\",\"A000003\"]},\n",
    "            },\n",
    "    \"C000002\":{\n",
    "        \"Tim\":{\"Country&City\":\"F1_Visa\",\n",
    "        \"Current_Status\":\"out of work\",\n",
    "        \"Degree&Major\":\"Stanford BS in Data Science\",\n",
    "        \"YOE&Industry\":\"1 years with Data Analyst\",\n",
    "        \"skills\":\"Python, JAVA, SQL, Statistics\",\n",
    "        \"working_experiences\":\"TikTok...\",\n",
    "        \"project_experiences\":\"Fraud Analysis\",\n",
    "        \"posting_history\":[\"A000002\",\"A000004\"]},\n",
    "            },\n",
    "\n",
    "}\n",
    "\"\"\""
   ]
  },
  {
   "cell_type": "code",
   "execution_count": null,
   "metadata": {},
   "outputs": [],
   "source": [
    "### RECRUITER PREFERENCE PART\n",
    "## It is better to parse data into the following format. (dictionary level: company - Recruiter - positionID - details)\n",
    "## Details should include following keys: \n",
    "# 1) Rcruiting Frequency\n",
    "# 2) Interview Candidates List\n",
    "# 3) Final Candidates List\n",
    "# 4) Preferred Candidates Features ##TODO"
   ]
  },
  {
   "cell_type": "code",
   "execution_count": 18,
   "metadata": {},
   "outputs": [],
   "source": [
    "# should be replaced by actual text, can also be parsed from a dataframe type of data\n",
    "# Must do data cleaning before storing in this dictionary\n",
    "company_info = {\n",
    "    \"TikTok\":{\n",
    "        \"Site Reliability Engineer_Seattle /NYC\":\n",
    "        {\"A000001\":{\"Position_Country&City\":\"001123\", \"Recruiter\":\"Audrey\", \"Type\":\"CS\", \"Seniority\":\"Entry\", \n",
    "                    \"Degree&YOE_Requirement\": \"Bachelor or above degree in Computer Science or a related technical discipline | 1. 3-5+ years experience in the deployment and administration of large-scale distributed systems\",\n",
    "                    \"Responsibilities\":\"1. Help improve the whole lifecycle of infrastructure services from inception and design, throughout development, capacity planning and launch reviews, to deployment, operation and refinement; 2. Design and implement software platforms and monitor frameworks for efficient, automated and intelligent service-oriented architecture (SOA) governance; 3. Scale systems sustainability through mechanisms such as automation; evolve systems reliability, efficiency, and velocity by pushing for changes; 4. Maintain services to meet service-level-agreements (SLAs) or service-level-objectives (SLOs) by measuring and monitoring availability, performance, and overall system health； 5. Provide user support, incident responses and postmortems.\",\n",
    "                    \"Basic_Qualifications\":\" 2. Familiar with Unix/Linux operating systems internals and administration, networking (e.g. TCP/IP, routing, network topologies and hardware), storage systems, and database systems; 3. Experience in one of the following programmings: C, C++, Java, Python, Go, Perl, Ruby or shell scripting; 4. Experience in debugging and optimizing code and automate routine tasks; 5. Experience in the development, test, deployment and administration of one of the following types of systems: Ngnix, Kubernetes, Docker, OpenStack, Hadoop, Spark, Flink, etc. is preferred; 6. Experience in designing and analyzing large-scale distributed systems is preferred; 7. Strong skills in problem solving and communication.\",\n",
    "                    \"Preferred_Qualifications\":\"None\",\n",
    "                    \"Recruiting_History\":[\"Axxxxx1\",\"Axxxxx2\",\"Axxxxx3\"]}},\n",
    "        \"Tech Lead Manager, Cloud Data Engineer\":\n",
    "        {\"A000002\":{\"Position_Country&City\":\"001124\", \"Recruiter\":\"Audrey\", \"Type\":\"DS\", \"Seniority\":\"Manager\", \n",
    "                    \"Degree&YOE_Requirement\": \"BS or MS degree in Computer Science or related technical field or equivalent practical experience | • 5+ years of experience with leading engineering and/or SRE teams\",\n",
    "                    \"Responsibilities\":\"You will identify issues and opportunities, design operational excellence strategies to bring the best out of our teams to to keep our community safe in the current fast-changing & uncertain environment. Drive consensus and realignment to ensure execution of such strategies.- You will identify deficiencies in communications / collaborations / operations in current cross-function and cross-location workflows. You will recognize the difficulty and pain points of cross-culture and cross-language communications, and continue to explore better ways of support to improve communication effectiveness and quality within the organization. You will design and deliver feasible projects with a thorough understanding of organizational structures and business needs, in order to optimize the above processes and enhance overall functioning efficiency. You will oversee the making and optimization of global processes such as headcount and budget approval processes.- You will design and develop people strategy by partnering with HR, Global Well-Being & Learning & Development leaders to improve talent development plans, competency models, that contribute to the organizational growth needs and implement projects that contributes to people well-being.\",\n",
    "                    \"Basic_Qualifications\":\"You have a strong ability of planning and leading strategic complex programs with the ability to execute at a tactical level and complete project implementations. You have respect for other cultures and deep empathy for users. You are eager to shape a new space within a rapidly growing and changing tech company.You have a keen interest and acute knowledge in social media challenges, sensitivity to safety or regulatory issues, and experience with crisis management.\",\n",
    "                    \"Preferred_Qualifications\":\"None\",\n",
    "                    \"Recruiting_History\":[\"Axxxxx4\",\"Axxxxx5\",\"Axxxxx6\"]}}\n",
    "            },\n",
    "    \"Google\":{\n",
    "        \"Quality Assurance Engineer, Games\":\n",
    "        {\"G000001\":{\"Position_Country&City\":\"001125\", \"Recruiter\":\"Audrey\", \"Type\":\"Engineer\", \"Seniority\":\"Entry\", \n",
    "                    \"Degree&YOE_Requirement\": \"None\",\n",
    "                    \"Responsibilities\":\"1. Responsible for the product quality assurance for all features, including system functions, front-end/back-end performance, optimization as well as other aspects to ensure the smooth release of projects and provide good user experience. 2. Manage the overall quality risk of the project, promote the implementation and optimization of the testing process and quality standards, improve the efficiency of version control, and ensure the quality of each release. 3. Develop effective corporate communication strategies and ensure good collaboration between different teams.\",\n",
    "                    \"Basic_Qualifications\":\"1. Strong background of software, understanding operating systems and computer networks. 2. Familiar with at least one programming or scripting language, such as C#, Java, Python, Go, etc. 3. Great knowledge of software QA methodologies, tools and processes. 4. 2+ years' experience of working on a software QA Engineer position 5. Good communication and teamwork skills, strong ability of organization and execution and be initiative during work. 6. Love playing games, have a great understanding of games and be willing to learn about game settings. 7. Fluent English and Mandarin will be a plus.\",\n",
    "                    \"Preferred_Qualifications\":\"None\",\n",
    "                    \"Recruiting_History\":[\"Axxxxx7\"]}},\n",
    "        \"Compliance Safety leader - Pico\":\n",
    "        {\"G000002\":{\"Position_Country&City\":\"001126\", \"Recruiter\":\"Kaite\", \"Type\":\"Research\", \"Seniority\":\"Entry\", \n",
    "                    \"Degree&YOE_Requirement\": \"Bachelor's degree or above; | More than 5 years of business compliance related experience, team management experience is preferred;\",\n",
    "                    \"Responsibilities\":\"1.Establish a mechanism related to Pico’s international compliance; plan the long-term strategic direction of the international compliance business, provide guaranteed value for the business, manage the compliance process in a systematic way, and ensure the safety of business products 2. Support the implementation of Pico's international compliance management framework, including implementing process formulation in accordance with management framework standards, communicating with stakeholders, recording decision-making, and promoting the maturity of business compliance management; 3. Responsible for the identification, governance, improvement, tracking and post-assessment of business compliance risks, cooperate with the legal team, convert legal compliance requirements into technical and process solutions, deal with corresponding risks, and further precipitate into standard compliance solutions , guidelines, improve the compliance efficiency of the business; cooperate with the internal audit and internal control team to implement internal compliance audits, including data permissions, cross-border transmission compliance, and APP/SDK compliance. 4.Promote business compliance review, identify compliance risks in a timely manner, and ensure timely delivery; 5. Summarize compliance demands, and cooperate with product R&D team to implement compliance capabilities.\",\n",
    "                    \"Basic_Qualifications\":\"3. English can be used as a working language, with experience communicating with multinational/functional teams 4.Understand the laws and regulations of important countries, such as GDPR, CCPA, COPPA, etc.; 5.Have a certain understanding of the Internet industry, video, and content industries.\",\n",
    "                    \"Preferred_Qualifications\":\"None\",\n",
    "                    \"Recruiting_History\":[]}}\n",
    "            },\n",
    "}"
   ]
  },
  {
   "cell_type": "markdown",
   "metadata": {},
   "source": [
    "# create recruiting matrix"
   ]
  },
  {
   "cell_type": "code",
   "execution_count": null,
   "metadata": {},
   "outputs": [],
   "source": [
    "## example from linkedin"
   ]
  },
  {
   "cell_type": "markdown",
   "metadata": {},
   "source": [
    "## create basic features (list)"
   ]
  },
  {
   "cell_type": "code",
   "execution_count": 26,
   "metadata": {},
   "outputs": [],
   "source": [
    "# build the recruiting matrix framework\n",
    "# three main aspects of matrix\n",
    "hard_skills = [\"Python\",\"SQL\",\"Java\",\"C\",\"C#\",\"Data_Engineering\",\"Statitics\",\"Machine_Learning\",\"Deep_Learning\",\"NoSQL\",\"Office\",\"Excel\"]\n",
    "soft_skills = [\"Languages\",\"Leadership\",\"Team\",\"Communication\",\"Plan\"]\n",
    "activities = [\"Most_Recently_Recruiting\",\"Company_Preference\"]"
   ]
  },
  {
   "cell_type": "markdown",
   "metadata": {},
   "source": [
    "## create extend features (dictionary)"
   ]
  },
  {
   "cell_type": "code",
   "execution_count": 27,
   "metadata": {},
   "outputs": [],
   "source": [
    "# find related sql skills (this part of code can be overwritten with other skills)\n",
    "def find_sql_skills(resume):\n",
    "    sql_skill = re.compile(r\"[a-z]*sql[a-z]*\")\n",
    "    skillset = sql_skill.search(resume.lower())\n",
    "    if skillset == None:\n",
    "        return None\n",
    "    else:\n",
    "        return True\n"
   ]
  },
  {
   "cell_type": "code",
   "execution_count": 30,
   "metadata": {},
   "outputs": [],
   "source": [
    "# Extend each elements with dictionary (all lower case)\n",
    "\n",
    "# hardskills can refer to workday skillset/ LinkedIn (web scraping)\n",
    "hard_skills_extend = {\n",
    "    \"python\":[\"python\",\"jupyter\",\"idle\",\"pycharm\",\"djan\",\"spyder\",\"pydev\",\"rodeo\",\"sublime_text\",\"wing\",\"eric_python\",\"atom\",\"thonny\"],\n",
    "    \"sql\":[find_sql_skills(resume),\"oracle\",\"sybase\",\"db2\",\"snowflake\"],\n",
    "    \"data_engineering\":[\"web_scraping\",\"data_cleaning\",\"data_gathering\",\"feature_engineering\",\"data_analysis\",\"EDA\",\"exploratory_data_analysis\",\"data_visualization\"],\n",
    "    \"machine_learning\":[\"supervised_learning\",\"unsupervised_learning\",\"feature_engineering\",\"sklearn\",\"tensorflow\",\"nerual_network\"]\n",
    "    # can be extended manually or with auto-refilled script, but not listed here\n",
    "}\n",
    "\n",
    "# this parts should add error inspection, because not all words can be included in the google resouce\n",
    "soft_skills_extend = {core.lower():[i[0] for i in word_vectors.most_similar(positive=[core.lower()],topn=10)] for core in soft_skills}"
   ]
  },
  {
   "cell_type": "code",
   "execution_count": 31,
   "metadata": {},
   "outputs": [
    {
     "name": "stdout",
     "output_type": "stream",
     "text": [
      "{'python': ['python', 'jupyter', 'idle', 'pycharm', 'djan', 'spyder', 'pydev', 'rodeo', 'sublime_text', 'wing', 'eric_python', 'atom', 'thonny'], 'sql': [None, 'oracle', 'sybase', 'db2', 'snowflake'], 'data_engineering': ['web_scraping', 'data_cleaning', 'data_gathering', 'feature_engineering', 'data_analysis', 'EDA', 'exploratory_data_analysis', 'data_visualization'], 'machine_learning': ['supervised_learning', 'unsupervised_learning', 'feature_engineering', 'sklearn', 'tensorflow', 'nerual_network']} {'languages': ['dialects', 'language', 'Languages', 'multilingual', 'languages_fluently', 'Hindi_Bengali', 'translations', 'Bahasa_Indonesia', 'vernacular_languages', 'English'], 'leadership': ['leader', 'Leadership', 'leaderships', 'leaders', 'chairmanship', 'organizational_structure', 'managerial_competence', 'organizational', 'stewardship', 'competence'], 'team': ['squad', 'teams', 'Team', 'teammates', 'league', 'sqaud', 'coach', 'players', 'championship', 'game'], 'communication': ['communications', 'communcation', 'interpersonal_communication', 'intercommunication', 'Communication', 'communicating', 'communicate', 'interaction', 'communicative', 'communicators'], 'plan': ['plans', 'proposal', 'Plan', 'blueprint', 'strategy', 'proposals', 'planned', 'proposed', 'planning', 'plan.The']}\n"
     ]
    }
   ],
   "source": [
    "print(hard_skills_extend,soft_skills_extend)"
   ]
  },
  {
   "cell_type": "markdown",
   "metadata": {},
   "source": [
    "## create final matrix (dataframe)"
   ]
  },
  {
   "cell_type": "code",
   "execution_count": null,
   "metadata": {},
   "outputs": [
    {
     "data": {
      "text/html": [
       "<div>\n",
       "<style scoped>\n",
       "    .dataframe tbody tr th:only-of-type {\n",
       "        vertical-align: middle;\n",
       "    }\n",
       "\n",
       "    .dataframe tbody tr th {\n",
       "        vertical-align: top;\n",
       "    }\n",
       "\n",
       "    .dataframe thead th {\n",
       "        text-align: right;\n",
       "    }\n",
       "</style>\n",
       "<table border=\"1\" class=\"dataframe\">\n",
       "  <thead>\n",
       "    <tr style=\"text-align: right;\">\n",
       "      <th></th>\n",
       "      <th>Python</th>\n",
       "      <th>SQL</th>\n",
       "      <th>Data_Engineering</th>\n",
       "      <th>Statitics</th>\n",
       "      <th>Machine_Learning</th>\n",
       "      <th>Deep_Learning</th>\n",
       "      <th>NoSQL</th>\n",
       "      <th>Office</th>\n",
       "      <th>Excel</th>\n",
       "      <th>Languages</th>\n",
       "      <th>Leadership</th>\n",
       "      <th>Team_Working</th>\n",
       "      <th>Communication</th>\n",
       "      <th>Planning</th>\n",
       "      <th>Hard_Working</th>\n",
       "      <th>Most_Recently_Recruiting</th>\n",
       "      <th>Company_Preference</th>\n",
       "    </tr>\n",
       "  </thead>\n",
       "  <tbody>\n",
       "  </tbody>\n",
       "</table>\n",
       "</div>"
      ],
      "text/plain": [
       "Empty DataFrame\n",
       "Columns: [Python, SQL, Data_Engineering, Statitics, Machine_Learning, Deep_Learning, NoSQL, Office, Excel, Languages, Leadership, Team_Working, Communication, Planning, Hard_Working, Most_Recently_Recruiting, Company_Preference]\n",
       "Index: []"
      ]
     },
     "execution_count": 4,
     "metadata": {},
     "output_type": "execute_result"
    }
   ],
   "source": [
    "# Construct the dataframe\n",
    "recruiting_matrix = pd.DataFrame(columns=hard_skills+soft_skills+activities)\n",
    "recruiting_matrix"
   ]
  },
  {
   "cell_type": "markdown",
   "metadata": {},
   "source": [
    "# define feature measurements"
   ]
  },
  {
   "cell_type": "code",
   "execution_count": 33,
   "metadata": {},
   "outputs": [],
   "source": [
    "### It would be better if we have a system that requires the HRs and Candidates fill in the blank. (Parsing system can be an assist.)\n",
    "### Two ways to implement - like what Workday is doing or/and like what LinkedIn is doing."
   ]
  },
  {
   "cell_type": "code",
   "execution_count": 34,
   "metadata": {},
   "outputs": [],
   "source": [
    "# create a dictionary that stores all company info in JSON/ Nested Dictionary format. (can be used to 1. vectorize the features 2. compare similar JD and Resume)\n",
    "company_info = {\n",
    "    \"Amazon\":{\n",
    "        \"SDE\":{\"A000001\":{\"edu_requirement\":\"bachelor degree in cs or related field\",\"candidates_id\":[\"Axxxxxx\"]}},\n",
    "        \"DS\":{\"A000002\":{\"edu_requirement\":\"at least master or equal experience\",\"candidates_id\":[\"Axxxxxx\"]}}\n",
    "            },\n",
    "    \"Google\":{\n",
    "        \"G000001\":{\"2020-10\":{\"edu_requirement\":\"PhD candidates\",\"candidates_id\":[\"Axxxxxx\"]}},\n",
    "        \"G000002\":{\"2011-12\":{\"edu_requirement\":\"finish high school in the US\",\"candidates_id\":[\"Axxxxxx\"]}}\n",
    "            },\n",
    "\n",
    "}"
   ]
  },
  {
   "cell_type": "code",
   "execution_count": null,
   "metadata": {},
   "outputs": [],
   "source": [
    "class MeasureHardSkillsHR():\n",
    "\n",
    "    company_hardskill_info = {}\n",
    "\n",
    "    def __init__(self,company_name,company_position,id):\n",
    "        self.company_name = company_name\n",
    "        self.company_position = company_position\n",
    "        self.id =id\n",
    "        self.post_date = datetime.now()\n",
    "        self.hardskill_info = {\"company\":self.company_name,\"position\":self.company_position,\"id\":id,\"post_date\":self.post_date}\n",
    "\n",
    "    # type1: multi-classification problem with considering thredshod\n",
    "    def measure_degree(self):\n",
    "        # get the edu_require with the above infomation\n",
    "        edu_requirement = company_info[self.company_name][self.company_position][self.id][\"edu_requirement\"]\n",
    "        # just example\n",
    "        # edu_requirement = \"bachelor degree in cs or related field\"\n",
    "        # edu_requirement = \"at least four-year university experience\"\n",
    "        degree_type = {\"kindergarden\":1,\"primary_scholl\":2,\"senior_high_school\":3,\"high_school\":4,\"bachelor\":5,\"master\":6,\"PhD\":7,\"post-doc\":8}\n",
    "        for i in edu_requirement:\n",
    "            if i in degree_type:\n",
    "                degree_vect = degree_type[i]\n",
    "            else:\n",
    "                continue\n",
    "        self.hardskill_info[\"degree\"] = degree_vect\n",
    "        # this should be a threshod that could be used by candidates filtering\n",
    "        return i\n",
    "        \n",
    "                "
   ]
  },
  {
   "cell_type": "code",
   "execution_count": null,
   "metadata": {},
   "outputs": [],
   "source": [
    "# create a dictionary that stores all candidates info in JSON/ Nested Dictionary format. (can be used to 1. vectorize the features 2. compare similar JD and Resume)\n",
    "candidates_info = {\n",
    "    \"C000001\":{\n",
    "        \"Bob\":{\"edu_background\":\"MIT Master of Science in Computer Science Related courses:...\",\n",
    "        \"skills\":\"Python, JAVA, SQL, Data_Structure\",\n",
    "        \"working_experiences\":\"Google...\",\n",
    "        \"project_experiences\":\"recommendation system\",\n",
    "        \"delivered_position_id\":[\"A000001\"]},\n",
    "            },\n",
    "    \"C000002\":{\n",
    "        \"Alice\":{\"edu_background\":\"Peking University Master in Data Science Related courses:...\",\n",
    "        \"skills\":\"Python, SQL, Hadoop\",\n",
    "        \"working_experiences\":\"Bytedance...\",\n",
    "        \"project_experiences\":\"Marketing_Analysis\",\n",
    "        \"delivered_position_id\":[\"A000002\"]},\n",
    "            },\n",
    "\n",
    "}"
   ]
  },
  {
   "cell_type": "code",
   "execution_count": null,
   "metadata": {},
   "outputs": [],
   "source": [
    "class MeasureHardSkillsCandidates():\n",
    "\n",
    "    candidate_hardskill_info = {}\n",
    "    \n",
    "    def __init__(self,name,candidate_id):\n",
    "        pass\n",
    "\n",
    "    # type1: multi-classification problem with considering thredshod\n",
    "    def measure_degree(self,):\n",
    "        # get the edu_require with the above infomation\n",
    "        edu_requirement = company_info[self.company_name][self.company_position][self.id][\"edu_requirement\"]\n",
    "        # just example\n",
    "        # edu_requirement = \"bachelor degree in cs or related field\"\n",
    "        # edu_requirement = \"at least four-year university experience\"\n",
    "        degree_type = {\"kindergarden\":1,\"primary_scholl\":2,\"senior_high_school\":3,\"high_school\":4,\"bachelor\":5,\"master\":6,\"PhD\":7,\"post-doc\":8}\n",
    "        for i in edu_requirement:\n",
    "            if i in degree_type:\n",
    "                degree_vect = degree_type[i]\n",
    "            else:\n",
    "                continue\n",
    "        self.hardskill_info[\"degree\"] = degree_vect\n",
    "        \n"
   ]
  }
 ],
 "metadata": {
  "kernelspec": {
   "display_name": "Python 3 (ipykernel)",
   "language": "python",
   "name": "python3"
  },
  "language_info": {
   "codemirror_mode": {
    "name": "ipython",
    "version": 3
   },
   "file_extension": ".py",
   "mimetype": "text/x-python",
   "name": "python",
   "nbconvert_exporter": "python",
   "pygments_lexer": "ipython3",
   "version": "3.8.12"
  },
  "toc": {
   "base_numbering": 1,
   "nav_menu": {},
   "number_sections": true,
   "sideBar": true,
   "skip_h1_title": false,
   "title_cell": "Table of Contents",
   "title_sidebar": "Contents",
   "toc_cell": false,
   "toc_position": {},
   "toc_section_display": true,
   "toc_window_display": false
  },
  "varInspector": {
   "cols": {
    "lenName": 16,
    "lenType": 16,
    "lenVar": 40
   },
   "kernels_config": {
    "python": {
     "delete_cmd_postfix": "",
     "delete_cmd_prefix": "del ",
     "library": "var_list.py",
     "varRefreshCmd": "print(var_dic_list())"
    },
    "r": {
     "delete_cmd_postfix": ") ",
     "delete_cmd_prefix": "rm(",
     "library": "var_list.r",
     "varRefreshCmd": "cat(var_dic_list()) "
    }
   },
   "types_to_exclude": [
    "module",
    "function",
    "builtin_function_or_method",
    "instance",
    "_Feature"
   ],
   "window_display": false
  },
  "vscode": {
   "interpreter": {
    "hash": "78db1858765fb968cc8932ecb4c57894369a997ed1306253288725441a1b529a"
   }
  }
 },
 "nbformat": 4,
 "nbformat_minor": 2
}
